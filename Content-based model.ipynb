{
 "cells": [
  {
   "cell_type": "code",
   "execution_count": 1,
   "metadata": {},
   "outputs": [],
   "source": [
    "#Import dependencies\n",
    "import pandas as pd\n",
    "from sqlalchemy import create_engine\n",
    "import numpy as np\n",
    "import re"
   ]
  },
  {
   "cell_type": "code",
   "execution_count": 2,
   "metadata": {},
   "outputs": [],
   "source": [
    "#Read movies data csv created in ETL into dataframe\n",
    "movies_df=pd.read_csv(\"data/updated_movies.csv\")"
   ]
  },
  {
   "cell_type": "markdown",
   "metadata": {},
   "source": [
    "## Sampling data for model creation"
   ]
  },
  {
   "cell_type": "code",
   "execution_count": 3,
   "metadata": {
    "scrolled": true
   },
   "outputs": [],
   "source": [
    "#Removing all movies for which genre is Unknown\n",
    "samples_movie_df=movies_df[movies_df[\"genres\"]!=\"Unknown\"]"
   ]
  },
  {
   "cell_type": "code",
   "execution_count": 4,
   "metadata": {},
   "outputs": [
    {
     "data": {
      "text/html": [
       "<div>\n",
       "<style scoped>\n",
       "    .dataframe tbody tr th:only-of-type {\n",
       "        vertical-align: middle;\n",
       "    }\n",
       "\n",
       "    .dataframe tbody tr th {\n",
       "        vertical-align: top;\n",
       "    }\n",
       "\n",
       "    .dataframe thead th {\n",
       "        text-align: right;\n",
       "    }\n",
       "</style>\n",
       "<table border=\"1\" class=\"dataframe\">\n",
       "  <thead>\n",
       "    <tr style=\"text-align: right;\">\n",
       "      <th></th>\n",
       "      <th>movieId</th>\n",
       "      <th>title</th>\n",
       "      <th>genres</th>\n",
       "      <th>avg_user_rating</th>\n",
       "      <th>year</th>\n",
       "      <th>comb</th>\n",
       "    </tr>\n",
       "  </thead>\n",
       "  <tbody>\n",
       "    <tr>\n",
       "      <th>0</th>\n",
       "      <td>1</td>\n",
       "      <td>Toy Story (1995)</td>\n",
       "      <td>Adventure Animation Children Comedy Fantasy</td>\n",
       "      <td>3.893708</td>\n",
       "      <td>1995</td>\n",
       "      <td>Adventure Animation Children Comedy Fantasy 3....</td>\n",
       "    </tr>\n",
       "    <tr>\n",
       "      <th>1</th>\n",
       "      <td>2</td>\n",
       "      <td>Jumanji (1995)</td>\n",
       "      <td>Adventure Children Fantasy</td>\n",
       "      <td>3.251527</td>\n",
       "      <td>1995</td>\n",
       "      <td>Adventure Children Fantasy 3.2515 1995</td>\n",
       "    </tr>\n",
       "    <tr>\n",
       "      <th>2</th>\n",
       "      <td>3</td>\n",
       "      <td>Grumpier Old Men (1995)</td>\n",
       "      <td>Comedy Romance</td>\n",
       "      <td>3.142028</td>\n",
       "      <td>1995</td>\n",
       "      <td>Comedy Romance 3.142 1995</td>\n",
       "    </tr>\n",
       "    <tr>\n",
       "      <th>3</th>\n",
       "      <td>4</td>\n",
       "      <td>Waiting to Exhale (1995)</td>\n",
       "      <td>Comedy Drama Romance</td>\n",
       "      <td>2.853547</td>\n",
       "      <td>1995</td>\n",
       "      <td>Comedy Drama Romance 2.8535 1995</td>\n",
       "    </tr>\n",
       "    <tr>\n",
       "      <th>4</th>\n",
       "      <td>5</td>\n",
       "      <td>Father of the Bride Part II (1995)</td>\n",
       "      <td>Comedy</td>\n",
       "      <td>3.058434</td>\n",
       "      <td>1995</td>\n",
       "      <td>Comedy 3.0584 1995</td>\n",
       "    </tr>\n",
       "  </tbody>\n",
       "</table>\n",
       "</div>"
      ],
      "text/plain": [
       "   movieId                               title  \\\n",
       "0        1                    Toy Story (1995)   \n",
       "1        2                      Jumanji (1995)   \n",
       "2        3             Grumpier Old Men (1995)   \n",
       "3        4            Waiting to Exhale (1995)   \n",
       "4        5  Father of the Bride Part II (1995)   \n",
       "\n",
       "                                        genres  avg_user_rating  year  \\\n",
       "0  Adventure Animation Children Comedy Fantasy         3.893708  1995   \n",
       "1                   Adventure Children Fantasy         3.251527  1995   \n",
       "2                               Comedy Romance         3.142028  1995   \n",
       "3                         Comedy Drama Romance         2.853547  1995   \n",
       "4                                       Comedy         3.058434  1995   \n",
       "\n",
       "                                                comb  \n",
       "0  Adventure Animation Children Comedy Fantasy 3....  \n",
       "1             Adventure Children Fantasy 3.2515 1995  \n",
       "2                          Comedy Romance 3.142 1995  \n",
       "3                   Comedy Drama Romance 2.8535 1995  \n",
       "4                                 Comedy 3.0584 1995  "
      ]
     },
     "execution_count": 4,
     "metadata": {},
     "output_type": "execute_result"
    }
   ],
   "source": [
    "#Checking data after Unknown Genre is removed\n",
    "samples_movie_df.head()"
   ]
  },
  {
   "cell_type": "code",
   "execution_count": 5,
   "metadata": {},
   "outputs": [],
   "source": [
    "#Sampling data furter as we are looking to create a prediction matrix only for good movies below using conduitions:\n",
    "#1. Rating at least 4 and year of release greater than or equal to 1980\n",
    "#2. Rating at least 3.2 and year of release greater than or equal to 1995\n",
    "samples_movie_df=samples_movie_df[((samples_movie_df['avg_user_rating']>=4)& \n",
    "                                   (samples_movie_df['year']>=1980)) | \n",
    "                                  ((samples_movie_df['avg_user_rating']>=3.2) & (samples_movie_df['year']>=1995))]\n"
   ]
  },
  {
   "cell_type": "code",
   "execution_count": 6,
   "metadata": {},
   "outputs": [],
   "source": [
    "#Resting index\n",
    "samples_movie_df.reset_index(inplace=True, drop = True)"
   ]
  },
  {
   "cell_type": "code",
   "execution_count": 7,
   "metadata": {},
   "outputs": [],
   "source": [
    "samples_movie_df['avg_user_rating']=samples_movie_df['avg_user_rating'].round(2)"
   ]
  },
  {
   "cell_type": "code",
   "execution_count": 8,
   "metadata": {},
   "outputs": [],
   "source": [
    "# Saving sample movies dataset to a csv file \n",
    "samples_movie_df.to_csv(\"data/sample_movies_gender_avg_prediction.csv\")"
   ]
  },
  {
   "cell_type": "markdown",
   "metadata": {},
   "source": [
    "## Checking data integrity"
   ]
  },
  {
   "cell_type": "code",
   "execution_count": 9,
   "metadata": {
    "scrolled": false
   },
   "outputs": [
    {
     "data": {
      "text/plain": [
       "movieId            17905\n",
       "title              17905\n",
       "genres             17905\n",
       "avg_user_rating    17905\n",
       "year               17905\n",
       "comb               17905\n",
       "dtype: int64"
      ]
     },
     "execution_count": 9,
     "metadata": {},
     "output_type": "execute_result"
    }
   ],
   "source": [
    "#Checking count of records\n",
    "samples_movie_df.count()"
   ]
  },
  {
   "cell_type": "code",
   "execution_count": 10,
   "metadata": {},
   "outputs": [
    {
     "data": {
      "text/html": [
       "<div>\n",
       "<style scoped>\n",
       "    .dataframe tbody tr th:only-of-type {\n",
       "        vertical-align: middle;\n",
       "    }\n",
       "\n",
       "    .dataframe tbody tr th {\n",
       "        vertical-align: top;\n",
       "    }\n",
       "\n",
       "    .dataframe thead th {\n",
       "        text-align: right;\n",
       "    }\n",
       "</style>\n",
       "<table border=\"1\" class=\"dataframe\">\n",
       "  <thead>\n",
       "    <tr style=\"text-align: right;\">\n",
       "      <th></th>\n",
       "      <th>movieId</th>\n",
       "      <th>title</th>\n",
       "      <th>avg_user_rating</th>\n",
       "      <th>year</th>\n",
       "      <th>comb</th>\n",
       "    </tr>\n",
       "    <tr>\n",
       "      <th>genres</th>\n",
       "      <th></th>\n",
       "      <th></th>\n",
       "      <th></th>\n",
       "      <th></th>\n",
       "      <th></th>\n",
       "    </tr>\n",
       "  </thead>\n",
       "  <tbody>\n",
       "    <tr>\n",
       "      <th>Action</th>\n",
       "      <td>81</td>\n",
       "      <td>81</td>\n",
       "      <td>81</td>\n",
       "      <td>81</td>\n",
       "      <td>81</td>\n",
       "    </tr>\n",
       "    <tr>\n",
       "      <th>Action Adventure</th>\n",
       "      <td>15</td>\n",
       "      <td>15</td>\n",
       "      <td>15</td>\n",
       "      <td>15</td>\n",
       "      <td>15</td>\n",
       "    </tr>\n",
       "    <tr>\n",
       "      <th>Action Adventure Animation</th>\n",
       "      <td>12</td>\n",
       "      <td>12</td>\n",
       "      <td>12</td>\n",
       "      <td>12</td>\n",
       "      <td>12</td>\n",
       "    </tr>\n",
       "    <tr>\n",
       "      <th>Action Adventure Animation Children</th>\n",
       "      <td>3</td>\n",
       "      <td>3</td>\n",
       "      <td>3</td>\n",
       "      <td>3</td>\n",
       "      <td>3</td>\n",
       "    </tr>\n",
       "    <tr>\n",
       "      <th>Action Adventure Animation Children Comedy</th>\n",
       "      <td>6</td>\n",
       "      <td>6</td>\n",
       "      <td>6</td>\n",
       "      <td>6</td>\n",
       "      <td>6</td>\n",
       "    </tr>\n",
       "    <tr>\n",
       "      <th>...</th>\n",
       "      <td>...</td>\n",
       "      <td>...</td>\n",
       "      <td>...</td>\n",
       "      <td>...</td>\n",
       "      <td>...</td>\n",
       "    </tr>\n",
       "    <tr>\n",
       "      <th>Sci-Fi Western</th>\n",
       "      <td>1</td>\n",
       "      <td>1</td>\n",
       "      <td>1</td>\n",
       "      <td>1</td>\n",
       "      <td>1</td>\n",
       "    </tr>\n",
       "    <tr>\n",
       "      <th>Thriller</th>\n",
       "      <td>241</td>\n",
       "      <td>241</td>\n",
       "      <td>241</td>\n",
       "      <td>241</td>\n",
       "      <td>241</td>\n",
       "    </tr>\n",
       "    <tr>\n",
       "      <th>UnKnown</th>\n",
       "      <td>1276</td>\n",
       "      <td>1276</td>\n",
       "      <td>1276</td>\n",
       "      <td>1276</td>\n",
       "      <td>1276</td>\n",
       "    </tr>\n",
       "    <tr>\n",
       "      <th>War</th>\n",
       "      <td>12</td>\n",
       "      <td>12</td>\n",
       "      <td>12</td>\n",
       "      <td>12</td>\n",
       "      <td>12</td>\n",
       "    </tr>\n",
       "    <tr>\n",
       "      <th>Western</th>\n",
       "      <td>22</td>\n",
       "      <td>22</td>\n",
       "      <td>22</td>\n",
       "      <td>22</td>\n",
       "      <td>22</td>\n",
       "    </tr>\n",
       "  </tbody>\n",
       "</table>\n",
       "<p>894 rows × 5 columns</p>\n",
       "</div>"
      ],
      "text/plain": [
       "                                            movieId  title  avg_user_rating  \\\n",
       "genres                                                                        \n",
       "Action                                           81     81               81   \n",
       "Action Adventure                                 15     15               15   \n",
       "Action Adventure Animation                       12     12               12   \n",
       "Action Adventure Animation Children               3      3                3   \n",
       "Action Adventure Animation Children Comedy        6      6                6   \n",
       "...                                             ...    ...              ...   \n",
       "Sci-Fi Western                                    1      1                1   \n",
       "Thriller                                        241    241              241   \n",
       "UnKnown                                        1276   1276             1276   \n",
       "War                                              12     12               12   \n",
       "Western                                          22     22               22   \n",
       "\n",
       "                                            year  comb  \n",
       "genres                                                  \n",
       "Action                                        81    81  \n",
       "Action Adventure                              15    15  \n",
       "Action Adventure Animation                    12    12  \n",
       "Action Adventure Animation Children            3     3  \n",
       "Action Adventure Animation Children Comedy     6     6  \n",
       "...                                          ...   ...  \n",
       "Sci-Fi Western                                 1     1  \n",
       "Thriller                                     241   241  \n",
       "UnKnown                                     1276  1276  \n",
       "War                                           12    12  \n",
       "Western                                       22    22  \n",
       "\n",
       "[894 rows x 5 columns]"
      ]
     },
     "execution_count": 10,
     "metadata": {},
     "output_type": "execute_result"
    }
   ],
   "source": [
    "#checking count of data for each genre to understand distribution of data in each genres\n",
    "samples_movie_df.groupby(\"genres\").count()"
   ]
  },
  {
   "cell_type": "markdown",
   "metadata": {},
   "source": [
    "## Create Feature column"
   ]
  },
  {
   "cell_type": "code",
   "execution_count": 11,
   "metadata": {
    "scrolled": true
   },
   "outputs": [],
   "source": [
    "#Combining genres and average user ratings together to create feature for building similarity matrix\n",
    "samples_movie_df['feature']=samples_movie_df['genres']+' '+\\\n",
    "samples_movie_df['avg_user_rating'].map(str)"
   ]
  },
  {
   "cell_type": "markdown",
   "metadata": {},
   "source": [
    "## Create Similarity matrix for recommendation"
   ]
  },
  {
   "cell_type": "code",
   "execution_count": 12,
   "metadata": {
    "scrolled": true
   },
   "outputs": [],
   "source": [
    "# Import sklearn libraries to create Count Vectorizer and cosine similarity matrix for prediction\n",
    "from sklearn.feature_extraction.text import CountVectorizer\n",
    "from sklearn.metrics.pairwise import cosine_similarity"
   ]
  },
  {
   "cell_type": "code",
   "execution_count": 13,
   "metadata": {},
   "outputs": [],
   "source": [
    "#Creating a count vector for feature column so that it can be used to create a similarity matrix between movies\n",
    "cv = CountVectorizer()\n",
    "count_matrix = cv.fit_transform(samples_movie_df['feature'])\n",
    "#print(count_matrix)"
   ]
  },
  {
   "cell_type": "code",
   "execution_count": 14,
   "metadata": {},
   "outputs": [
    {
     "name": "stdout",
     "output_type": "stream",
     "text": [
      "[[1.         0.61237244 0.         ... 0.         0.23570226 0.28867513]\n",
      " [0.61237244 1.         0.         ... 0.         0.         0.        ]\n",
      " [0.         0.         1.         ... 0.         0.28867513 0.        ]\n",
      " ...\n",
      " [0.         0.         0.         ... 1.         0.         0.        ]\n",
      " [0.23570226 0.         0.28867513 ... 0.         1.         0.40824829]\n",
      " [0.28867513 0.         0.         ... 0.         0.40824829 1.        ]]\n"
     ]
    }
   ],
   "source": [
    "#creating a similarity score matrix for movies within our dataset\n",
    "sim = cosine_similarity(count_matrix)\n",
    "print(sim)\n",
    "#print(movies_df['comb'])"
   ]
  },
  {
   "cell_type": "markdown",
   "metadata": {},
   "source": [
    "### Movie Recommendation method"
   ]
  },
  {
   "cell_type": "code",
   "execution_count": 15,
   "metadata": {
    "scrolled": true
   },
   "outputs": [
    {
     "name": "stdout",
     "output_type": "stream",
     "text": [
      "title\n",
      "Toy Story (1995)                      0\n",
      "Jumanji (1995)                        1\n",
      "Heat (1995)                           2\n",
      "Sabrina (1995)                        3\n",
      "GoldenEye (1995)                      4\n",
      "                                  ...  \n",
      "Destination Titan (2011)          17900\n",
      "Last Days of the Arctic (2011)    17901\n",
      "Mao Zedong 1949 (2019)            17902\n",
      "Santosh Subramaniam (2008)        17903\n",
      "Bad Poems (2018)                  17904\n",
      "Length: 17905, dtype: int64\n"
     ]
    }
   ],
   "source": [
    "# Build a 1-dimensional array with movie titles\n",
    "indices = pd.Series(samples_movie_df.index, index=samples_movie_df['title'])\n",
    "print(indices)"
   ]
  },
  {
   "cell_type": "code",
   "execution_count": 16,
   "metadata": {},
   "outputs": [],
   "source": [
    "# Function that get movie recommendations based on the cosine similarity score of movie genres and average rating combined\n",
    "def genre_recommendations(title):\n",
    "    idx = indices[title]\n",
    "    sim_scores = list(enumerate(sim[idx]))\n",
    "    #print(sim_scores)\n",
    "    sim_scores = sorted(sim_scores, key=lambda x: x[1], reverse=True)\n",
    "    sim_scores = sim_scores[0:21] \n",
    "    #print(sim_scores)\n",
    "    movie_indices = [i[0] for i in sim_scores]\n",
    "    print(movie_indices)\n",
    "    return samples_movie_df.iloc[movie_indices[1:11],[1,2,3]].values.tolist()"
   ]
  },
  {
   "cell_type": "markdown",
   "metadata": {},
   "source": [
    "### Saving model for calling in flask app for movie recommendations on website"
   ]
  },
  {
   "cell_type": "code",
   "execution_count": 17,
   "metadata": {},
   "outputs": [],
   "source": [
    "#Import pickle library\n",
    "import pickle"
   ]
  },
  {
   "cell_type": "code",
   "execution_count": 18,
   "metadata": {},
   "outputs": [],
   "source": [
    "#Exporting similariy scores into a .pickl file for use in front-end\n",
    "pickle.dump(sim,open(\"genrepredictor-similaritymatrix.pckl\",\"wb\"))"
   ]
  },
  {
   "cell_type": "code",
   "execution_count": 19,
   "metadata": {},
   "outputs": [],
   "source": [
    "#Exporting dataframe into a .pickl file for use in front-end\n",
    "pickle.dump(samples_movie_df,open(\"movie_df.pckl\",\"wb\"))"
   ]
  },
  {
   "cell_type": "code",
   "execution_count": 20,
   "metadata": {},
   "outputs": [
    {
     "name": "stdout",
     "output_type": "stream",
     "text": [
      "[437, 666, 1144, 1183, 1759, 4184, 4406, 5762, 7377, 8775, 8862, 9206, 12192, 13034, 13845, 14132, 16775, 2487, 2688, 4013, 4836]\n"
     ]
    },
    {
     "data": {
      "text/plain": [
       "'[[\\'Oscar and Lucinda (a.k.a. Oscar & Lucinda) (1997)\\', \\'Drama Romance\\', 3.38], [\\'Moonlight Mile (2002)\\', \\'Drama Romance\\', 3.38], [\\'Crime of Father Amaro, The (Crimen del padre Amaro, El) (2002)\\', \\'Drama Romance\\', 3.38], [\\'Suzhou River (Suzhou he) (2000)\\', \\'Drama Romance\\', 3.38], [\\'Water for Elephants (2011)\\', \\'Drama Romance\\', 3.38], [\"Someone I Loved (Je l\\'aimais) (2009)\", \\'Drama Romance\\', 3.38], [\\'Saint Laurent (2014)\\', \\'Drama Romance\\', 3.38], [\\'A Little Chaos (2014)\\', \\'Drama Romance\\', 3.38], [\\'Lootera (2013)\\', \\'Drama Romance\\', 3.38], [\\'Freeheld (2015)\\', \\'Drama Romance\\', 3.38]]'"
      ]
     },
     "execution_count": 20,
     "metadata": {},
     "output_type": "execute_result"
    }
   ],
   "source": [
    "#Running model to predict score based on movie\n",
    "str(genre_recommendations('Titanic (1997)'))"
   ]
  },
  {
   "cell_type": "code",
   "execution_count": null,
   "metadata": {},
   "outputs": [],
   "source": []
  }
 ],
 "metadata": {
  "kernelspec": {
   "display_name": "Python 3",
   "language": "python",
   "name": "python3"
  },
  "language_info": {
   "codemirror_mode": {
    "name": "ipython",
    "version": 3
   },
   "file_extension": ".py",
   "mimetype": "text/x-python",
   "name": "python",
   "nbconvert_exporter": "python",
   "pygments_lexer": "ipython3",
   "version": "3.7.6"
  }
 },
 "nbformat": 4,
 "nbformat_minor": 4
}
