{
 "cells": [
  {
   "cell_type": "code",
   "execution_count": 1,
   "metadata": {},
   "outputs": [],
   "source": [
    "#Import dependencies\n",
    "import pandas as pd\n",
    "from sqlalchemy import create_engine\n",
    "import numpy as np\n",
    "import re"
   ]
  },
  {
   "cell_type": "code",
   "execution_count": 2,
   "metadata": {},
   "outputs": [],
   "source": [
    "#Read movies data csv created in ETL into dataframe\n",
    "movies_df=pd.read_csv(\"data/updated_movies.csv\")"
   ]
  },
  {
   "cell_type": "markdown",
   "metadata": {},
   "source": [
    "## Sampling data for model creation"
   ]
  },
  {
   "cell_type": "code",
   "execution_count": 3,
   "metadata": {
    "scrolled": true
   },
   "outputs": [],
   "source": [
    "#Removing all movies for which genre is Unknown\n",
    "samples_movie_df=movies_df[movies_df[\"genres\"]!=\"UnKnown\"]"
   ]
  },
  {
   "cell_type": "code",
   "execution_count": 4,
   "metadata": {},
   "outputs": [
    {
     "data": {
      "text/html": [
       "<div>\n",
       "<style scoped>\n",
       "    .dataframe tbody tr th:only-of-type {\n",
       "        vertical-align: middle;\n",
       "    }\n",
       "\n",
       "    .dataframe tbody tr th {\n",
       "        vertical-align: top;\n",
       "    }\n",
       "\n",
       "    .dataframe thead th {\n",
       "        text-align: right;\n",
       "    }\n",
       "</style>\n",
       "<table border=\"1\" class=\"dataframe\">\n",
       "  <thead>\n",
       "    <tr style=\"text-align: right;\">\n",
       "      <th></th>\n",
       "      <th>movieId</th>\n",
       "      <th>title</th>\n",
       "      <th>genres</th>\n",
       "      <th>avg_user_rating</th>\n",
       "      <th>year</th>\n",
       "      <th>comb</th>\n",
       "    </tr>\n",
       "  </thead>\n",
       "  <tbody>\n",
       "  </tbody>\n",
       "</table>\n",
       "</div>"
      ],
      "text/plain": [
       "Empty DataFrame\n",
       "Columns: [movieId, title, genres, avg_user_rating, year, comb]\n",
       "Index: []"
      ]
     },
     "execution_count": 4,
     "metadata": {},
     "output_type": "execute_result"
    }
   ],
   "source": [
    "samples_movie_df[samples_movie_df[\"genres\"]==\"UnKnown\"]"
   ]
  },
  {
   "cell_type": "code",
   "execution_count": 5,
   "metadata": {
    "scrolled": true
   },
   "outputs": [
    {
     "data": {
      "text/html": [
       "<div>\n",
       "<style scoped>\n",
       "    .dataframe tbody tr th:only-of-type {\n",
       "        vertical-align: middle;\n",
       "    }\n",
       "\n",
       "    .dataframe tbody tr th {\n",
       "        vertical-align: top;\n",
       "    }\n",
       "\n",
       "    .dataframe thead th {\n",
       "        text-align: right;\n",
       "    }\n",
       "</style>\n",
       "<table border=\"1\" class=\"dataframe\">\n",
       "  <thead>\n",
       "    <tr style=\"text-align: right;\">\n",
       "      <th></th>\n",
       "      <th>movieId</th>\n",
       "      <th>title</th>\n",
       "      <th>genres</th>\n",
       "      <th>avg_user_rating</th>\n",
       "      <th>year</th>\n",
       "      <th>comb</th>\n",
       "    </tr>\n",
       "  </thead>\n",
       "  <tbody>\n",
       "    <tr>\n",
       "      <th>0</th>\n",
       "      <td>1</td>\n",
       "      <td>Toy Story (1995)</td>\n",
       "      <td>Adventure Animation Children Comedy Fantasy</td>\n",
       "      <td>3.893708</td>\n",
       "      <td>1995</td>\n",
       "      <td>Adventure Animation Children Comedy Fantasy 3....</td>\n",
       "    </tr>\n",
       "    <tr>\n",
       "      <th>1</th>\n",
       "      <td>2</td>\n",
       "      <td>Jumanji (1995)</td>\n",
       "      <td>Adventure Children Fantasy</td>\n",
       "      <td>3.251527</td>\n",
       "      <td>1995</td>\n",
       "      <td>Adventure Children Fantasy 3.2515 1995</td>\n",
       "    </tr>\n",
       "    <tr>\n",
       "      <th>2</th>\n",
       "      <td>3</td>\n",
       "      <td>Grumpier Old Men (1995)</td>\n",
       "      <td>Comedy Romance</td>\n",
       "      <td>3.142028</td>\n",
       "      <td>1995</td>\n",
       "      <td>Comedy Romance 3.142 1995</td>\n",
       "    </tr>\n",
       "    <tr>\n",
       "      <th>3</th>\n",
       "      <td>4</td>\n",
       "      <td>Waiting to Exhale (1995)</td>\n",
       "      <td>Comedy Drama Romance</td>\n",
       "      <td>2.853547</td>\n",
       "      <td>1995</td>\n",
       "      <td>Comedy Drama Romance 2.8535 1995</td>\n",
       "    </tr>\n",
       "    <tr>\n",
       "      <th>4</th>\n",
       "      <td>5</td>\n",
       "      <td>Father of the Bride Part II (1995)</td>\n",
       "      <td>Comedy</td>\n",
       "      <td>3.058434</td>\n",
       "      <td>1995</td>\n",
       "      <td>Comedy 3.0584 1995</td>\n",
       "    </tr>\n",
       "  </tbody>\n",
       "</table>\n",
       "</div>"
      ],
      "text/plain": [
       "   movieId                               title  \\\n",
       "0        1                    Toy Story (1995)   \n",
       "1        2                      Jumanji (1995)   \n",
       "2        3             Grumpier Old Men (1995)   \n",
       "3        4            Waiting to Exhale (1995)   \n",
       "4        5  Father of the Bride Part II (1995)   \n",
       "\n",
       "                                        genres  avg_user_rating  year  \\\n",
       "0  Adventure Animation Children Comedy Fantasy         3.893708  1995   \n",
       "1                   Adventure Children Fantasy         3.251527  1995   \n",
       "2                               Comedy Romance         3.142028  1995   \n",
       "3                         Comedy Drama Romance         2.853547  1995   \n",
       "4                                       Comedy         3.058434  1995   \n",
       "\n",
       "                                                comb  \n",
       "0  Adventure Animation Children Comedy Fantasy 3....  \n",
       "1             Adventure Children Fantasy 3.2515 1995  \n",
       "2                          Comedy Romance 3.142 1995  \n",
       "3                   Comedy Drama Romance 2.8535 1995  \n",
       "4                                 Comedy 3.0584 1995  "
      ]
     },
     "execution_count": 5,
     "metadata": {},
     "output_type": "execute_result"
    }
   ],
   "source": [
    "#Checking data after Unknown Genre is removed\n",
    "samples_movie_df.head()"
   ]
  },
  {
   "cell_type": "code",
   "execution_count": 6,
   "metadata": {},
   "outputs": [],
   "source": [
    "#Sampling data furter as we are looking to create a prediction matrix only for good movies below using conduitions:\n",
    "#1. Rating at least 4 and year of release greater than or equal to 1980\n",
    "#2. Rating at least 3.2 and year of release greater than or equal to 1995\n",
    "samples_movie_df=samples_movie_df[((samples_movie_df['avg_user_rating']>=4)& \n",
    "                                   (samples_movie_df['year']>=1980)) | \n",
    "                                  ((samples_movie_df['avg_user_rating']>=3.2) & (samples_movie_df['year']>=1995))]\n"
   ]
  },
  {
   "cell_type": "code",
   "execution_count": 7,
   "metadata": {},
   "outputs": [],
   "source": [
    "#Resting index\n",
    "samples_movie_df.reset_index(inplace=True, drop = True)"
   ]
  },
  {
   "cell_type": "code",
   "execution_count": 8,
   "metadata": {},
   "outputs": [],
   "source": [
    "samples_movie_df['avg_user_rating']=samples_movie_df['avg_user_rating'].round(2)"
   ]
  },
  {
   "cell_type": "code",
   "execution_count": 9,
   "metadata": {},
   "outputs": [
    {
     "data": {
      "text/html": [
       "<div>\n",
       "<style scoped>\n",
       "    .dataframe tbody tr th:only-of-type {\n",
       "        vertical-align: middle;\n",
       "    }\n",
       "\n",
       "    .dataframe tbody tr th {\n",
       "        vertical-align: top;\n",
       "    }\n",
       "\n",
       "    .dataframe thead th {\n",
       "        text-align: right;\n",
       "    }\n",
       "</style>\n",
       "<table border=\"1\" class=\"dataframe\">\n",
       "  <thead>\n",
       "    <tr style=\"text-align: right;\">\n",
       "      <th></th>\n",
       "      <th>movieId</th>\n",
       "      <th>title</th>\n",
       "      <th>genres</th>\n",
       "      <th>avg_user_rating</th>\n",
       "      <th>year</th>\n",
       "      <th>comb</th>\n",
       "    </tr>\n",
       "  </thead>\n",
       "  <tbody>\n",
       "    <tr>\n",
       "      <th>1702</th>\n",
       "      <td>26982</td>\n",
       "      <td>Men with Guns (1997)</td>\n",
       "      <td>Drama</td>\n",
       "      <td>3.66</td>\n",
       "      <td>1997</td>\n",
       "      <td>Drama 3.6618 1997</td>\n",
       "    </tr>\n",
       "    <tr>\n",
       "      <th>3163</th>\n",
       "      <td>65665</td>\n",
       "      <td>Hamlet (2000)</td>\n",
       "      <td>Drama</td>\n",
       "      <td>3.21</td>\n",
       "      <td>2000</td>\n",
       "      <td>Drama 3.2121 2000</td>\n",
       "    </tr>\n",
       "    <tr>\n",
       "      <th>7139</th>\n",
       "      <td>128862</td>\n",
       "      <td>Casanova (2005)</td>\n",
       "      <td>Comedy Drama Romance</td>\n",
       "      <td>4.13</td>\n",
       "      <td>2005</td>\n",
       "      <td>Comedy Drama Romance 4.1316 2005</td>\n",
       "    </tr>\n",
       "    <tr>\n",
       "      <th>8768</th>\n",
       "      <td>144450</td>\n",
       "      <td>An Inspector Calls (2015)</td>\n",
       "      <td>Action Comedy</td>\n",
       "      <td>3.50</td>\n",
       "      <td>2015</td>\n",
       "      <td>Action Comedy 3.5 2015</td>\n",
       "    </tr>\n",
       "    <tr>\n",
       "      <th>8806</th>\n",
       "      <td>144606</td>\n",
       "      <td>Confessions of a Dangerous Mind (2002)</td>\n",
       "      <td>Comedy Crime Drama Romance Thriller</td>\n",
       "      <td>3.47</td>\n",
       "      <td>2002</td>\n",
       "      <td>Comedy Crime Drama Romance Thriller 3.4749 2002</td>\n",
       "    </tr>\n",
       "    <tr>\n",
       "      <th>9685</th>\n",
       "      <td>154943</td>\n",
       "      <td>Stranded (2015)</td>\n",
       "      <td>Comedy</td>\n",
       "      <td>3.33</td>\n",
       "      <td>2015</td>\n",
       "      <td>Comedy 3.3333 2015</td>\n",
       "    </tr>\n",
       "    <tr>\n",
       "      <th>10749</th>\n",
       "      <td>164568</td>\n",
       "      <td>Interrogation (2016)</td>\n",
       "      <td>Action Thriller</td>\n",
       "      <td>3.69</td>\n",
       "      <td>2016</td>\n",
       "      <td>Action Thriller 3.6875 2016</td>\n",
       "    </tr>\n",
       "    <tr>\n",
       "      <th>11407</th>\n",
       "      <td>168866</td>\n",
       "      <td>Free Fall (2014)</td>\n",
       "      <td>Action Drama Thriller</td>\n",
       "      <td>4.50</td>\n",
       "      <td>2014</td>\n",
       "      <td>Action Drama Thriller 4.5 2014</td>\n",
       "    </tr>\n",
       "    <tr>\n",
       "      <th>11535</th>\n",
       "      <td>169530</td>\n",
       "      <td>Sing (2016)</td>\n",
       "      <td>Drama</td>\n",
       "      <td>3.83</td>\n",
       "      <td>2016</td>\n",
       "      <td>Drama 3.8333 2016</td>\n",
       "    </tr>\n",
       "    <tr>\n",
       "      <th>13033</th>\n",
       "      <td>180029</td>\n",
       "      <td>Rose (2011)</td>\n",
       "      <td>Action Animation Sci-Fi</td>\n",
       "      <td>3.33</td>\n",
       "      <td>2011</td>\n",
       "      <td>Action Animation Sci-Fi 3.3333 2011</td>\n",
       "    </tr>\n",
       "    <tr>\n",
       "      <th>13232</th>\n",
       "      <td>181751</td>\n",
       "      <td>Lagaan: Once Upon a Time in India (2001)</td>\n",
       "      <td>Adventure Drama Romance</td>\n",
       "      <td>3.83</td>\n",
       "      <td>2001</td>\n",
       "      <td>Adventure Drama Romance 3.8333 2001</td>\n",
       "    </tr>\n",
       "    <tr>\n",
       "      <th>14543</th>\n",
       "      <td>191775</td>\n",
       "      <td>Berlin Calling (2008)</td>\n",
       "      <td>Comedy Drama</td>\n",
       "      <td>3.42</td>\n",
       "      <td>2008</td>\n",
       "      <td>Comedy Drama 3.4231 2008</td>\n",
       "    </tr>\n",
       "    <tr>\n",
       "      <th>14638</th>\n",
       "      <td>192405</td>\n",
       "      <td>Cold War (2018)</td>\n",
       "      <td>Comedy Romance</td>\n",
       "      <td>5.00</td>\n",
       "      <td>2018</td>\n",
       "      <td>Comedy Romance 5.0 2018</td>\n",
       "    </tr>\n",
       "    <tr>\n",
       "      <th>14949</th>\n",
       "      <td>194652</td>\n",
       "      <td>Simple Things (2007)</td>\n",
       "      <td>Drama</td>\n",
       "      <td>3.62</td>\n",
       "      <td>2007</td>\n",
       "      <td>Drama 3.625 2007</td>\n",
       "    </tr>\n",
       "    <tr>\n",
       "      <th>15833</th>\n",
       "      <td>200914</td>\n",
       "      <td>Reset (2017)</td>\n",
       "      <td>Documentary</td>\n",
       "      <td>3.50</td>\n",
       "      <td>2017</td>\n",
       "      <td>Documentary 3.5 2017</td>\n",
       "    </tr>\n",
       "    <tr>\n",
       "      <th>16028</th>\n",
       "      <td>202599</td>\n",
       "      <td>Enron: The Smartest Guys in the Room (2005)</td>\n",
       "      <td>Documentary</td>\n",
       "      <td>3.58</td>\n",
       "      <td>2005</td>\n",
       "      <td>Documentary 3.5833 2005</td>\n",
       "    </tr>\n",
       "  </tbody>\n",
       "</table>\n",
       "</div>"
      ],
      "text/plain": [
       "       movieId                                        title  \\\n",
       "1702     26982                         Men with Guns (1997)   \n",
       "3163     65665                                Hamlet (2000)   \n",
       "7139    128862                              Casanova (2005)   \n",
       "8768    144450                    An Inspector Calls (2015)   \n",
       "8806    144606       Confessions of a Dangerous Mind (2002)   \n",
       "9685    154943                              Stranded (2015)   \n",
       "10749   164568                         Interrogation (2016)   \n",
       "11407   168866                             Free Fall (2014)   \n",
       "11535   169530                                  Sing (2016)   \n",
       "13033   180029                                  Rose (2011)   \n",
       "13232   181751     Lagaan: Once Upon a Time in India (2001)   \n",
       "14543   191775                        Berlin Calling (2008)   \n",
       "14638   192405                              Cold War (2018)   \n",
       "14949   194652                         Simple Things (2007)   \n",
       "15833   200914                                 Reset (2017)   \n",
       "16028   202599  Enron: The Smartest Guys in the Room (2005)   \n",
       "\n",
       "                                    genres  avg_user_rating  year  \\\n",
       "1702                                 Drama             3.66  1997   \n",
       "3163                                 Drama             3.21  2000   \n",
       "7139                  Comedy Drama Romance             4.13  2005   \n",
       "8768                         Action Comedy             3.50  2015   \n",
       "8806   Comedy Crime Drama Romance Thriller             3.47  2002   \n",
       "9685                                Comedy             3.33  2015   \n",
       "10749                      Action Thriller             3.69  2016   \n",
       "11407                Action Drama Thriller             4.50  2014   \n",
       "11535                                Drama             3.83  2016   \n",
       "13033              Action Animation Sci-Fi             3.33  2011   \n",
       "13232              Adventure Drama Romance             3.83  2001   \n",
       "14543                         Comedy Drama             3.42  2008   \n",
       "14638                       Comedy Romance             5.00  2018   \n",
       "14949                                Drama             3.62  2007   \n",
       "15833                          Documentary             3.50  2017   \n",
       "16028                          Documentary             3.58  2005   \n",
       "\n",
       "                                                  comb  \n",
       "1702                                 Drama 3.6618 1997  \n",
       "3163                                 Drama 3.2121 2000  \n",
       "7139                  Comedy Drama Romance 4.1316 2005  \n",
       "8768                            Action Comedy 3.5 2015  \n",
       "8806   Comedy Crime Drama Romance Thriller 3.4749 2002  \n",
       "9685                                Comedy 3.3333 2015  \n",
       "10749                      Action Thriller 3.6875 2016  \n",
       "11407                   Action Drama Thriller 4.5 2014  \n",
       "11535                                Drama 3.8333 2016  \n",
       "13033              Action Animation Sci-Fi 3.3333 2011  \n",
       "13232              Adventure Drama Romance 3.8333 2001  \n",
       "14543                         Comedy Drama 3.4231 2008  \n",
       "14638                          Comedy Romance 5.0 2018  \n",
       "14949                                 Drama 3.625 2007  \n",
       "15833                             Documentary 3.5 2017  \n",
       "16028                          Documentary 3.5833 2005  "
      ]
     },
     "execution_count": 9,
     "metadata": {},
     "output_type": "execute_result"
    }
   ],
   "source": [
    "#Check if movies are present multiple time\n",
    "samples_movie_df[samples_movie_df.duplicated(['title'])]"
   ]
  },
  {
   "cell_type": "code",
   "execution_count": 10,
   "metadata": {},
   "outputs": [],
   "source": [
    "#Dropping all duplicate records for a movie based on movie title\n",
    "samples_movie_df.drop_duplicates(subset =\"title\", \n",
    "                     keep = False, inplace = True) \n",
    "  "
   ]
  },
  {
   "cell_type": "code",
   "execution_count": 11,
   "metadata": {},
   "outputs": [
    {
     "data": {
      "text/html": [
       "<div>\n",
       "<style scoped>\n",
       "    .dataframe tbody tr th:only-of-type {\n",
       "        vertical-align: middle;\n",
       "    }\n",
       "\n",
       "    .dataframe tbody tr th {\n",
       "        vertical-align: top;\n",
       "    }\n",
       "\n",
       "    .dataframe thead th {\n",
       "        text-align: right;\n",
       "    }\n",
       "</style>\n",
       "<table border=\"1\" class=\"dataframe\">\n",
       "  <thead>\n",
       "    <tr style=\"text-align: right;\">\n",
       "      <th></th>\n",
       "      <th>movieId</th>\n",
       "      <th>title</th>\n",
       "      <th>genres</th>\n",
       "      <th>avg_user_rating</th>\n",
       "      <th>year</th>\n",
       "      <th>comb</th>\n",
       "    </tr>\n",
       "  </thead>\n",
       "  <tbody>\n",
       "  </tbody>\n",
       "</table>\n",
       "</div>"
      ],
      "text/plain": [
       "Empty DataFrame\n",
       "Columns: [movieId, title, genres, avg_user_rating, year, comb]\n",
       "Index: []"
      ]
     },
     "execution_count": 11,
     "metadata": {},
     "output_type": "execute_result"
    }
   ],
   "source": [
    "#Check if movies are present multiple time after dropping duplicate records\n",
    "samples_movie_df[samples_movie_df.duplicated(['title'])]"
   ]
  },
  {
   "cell_type": "code",
   "execution_count": 12,
   "metadata": {},
   "outputs": [],
   "source": [
    "#Resting index\n",
    "samples_movie_df.reset_index(inplace=True, drop = True)"
   ]
  },
  {
   "cell_type": "code",
   "execution_count": 13,
   "metadata": {},
   "outputs": [],
   "source": [
    "# Saving sample movies dataset to a csv file \n",
    "samples_movie_df.to_csv(\"data/sample_movies_gender_avg_prediction.csv\")"
   ]
  },
  {
   "cell_type": "markdown",
   "metadata": {},
   "source": [
    "## Checking data integrity"
   ]
  },
  {
   "cell_type": "code",
   "execution_count": 14,
   "metadata": {
    "scrolled": false
   },
   "outputs": [
    {
     "data": {
      "text/plain": [
       "movieId            16597\n",
       "title              16597\n",
       "genres             16597\n",
       "avg_user_rating    16597\n",
       "year               16597\n",
       "comb               16597\n",
       "dtype: int64"
      ]
     },
     "execution_count": 14,
     "metadata": {},
     "output_type": "execute_result"
    }
   ],
   "source": [
    "#Checking count of records\n",
    "samples_movie_df.count()"
   ]
  },
  {
   "cell_type": "code",
   "execution_count": 15,
   "metadata": {
    "scrolled": true
   },
   "outputs": [
    {
     "data": {
      "text/html": [
       "<div>\n",
       "<style scoped>\n",
       "    .dataframe tbody tr th:only-of-type {\n",
       "        vertical-align: middle;\n",
       "    }\n",
       "\n",
       "    .dataframe tbody tr th {\n",
       "        vertical-align: top;\n",
       "    }\n",
       "\n",
       "    .dataframe thead th {\n",
       "        text-align: right;\n",
       "    }\n",
       "</style>\n",
       "<table border=\"1\" class=\"dataframe\">\n",
       "  <thead>\n",
       "    <tr style=\"text-align: right;\">\n",
       "      <th></th>\n",
       "      <th>movieId</th>\n",
       "      <th>title</th>\n",
       "      <th>avg_user_rating</th>\n",
       "      <th>year</th>\n",
       "      <th>comb</th>\n",
       "    </tr>\n",
       "    <tr>\n",
       "      <th>genres</th>\n",
       "      <th></th>\n",
       "      <th></th>\n",
       "      <th></th>\n",
       "      <th></th>\n",
       "      <th></th>\n",
       "    </tr>\n",
       "  </thead>\n",
       "  <tbody>\n",
       "    <tr>\n",
       "      <th>Action</th>\n",
       "      <td>81</td>\n",
       "      <td>81</td>\n",
       "      <td>81</td>\n",
       "      <td>81</td>\n",
       "      <td>81</td>\n",
       "    </tr>\n",
       "    <tr>\n",
       "      <th>Action Adventure</th>\n",
       "      <td>15</td>\n",
       "      <td>15</td>\n",
       "      <td>15</td>\n",
       "      <td>15</td>\n",
       "      <td>15</td>\n",
       "    </tr>\n",
       "    <tr>\n",
       "      <th>Action Adventure Animation</th>\n",
       "      <td>12</td>\n",
       "      <td>12</td>\n",
       "      <td>12</td>\n",
       "      <td>12</td>\n",
       "      <td>12</td>\n",
       "    </tr>\n",
       "    <tr>\n",
       "      <th>Action Adventure Animation Children</th>\n",
       "      <td>3</td>\n",
       "      <td>3</td>\n",
       "      <td>3</td>\n",
       "      <td>3</td>\n",
       "      <td>3</td>\n",
       "    </tr>\n",
       "    <tr>\n",
       "      <th>Action Adventure Animation Children Comedy</th>\n",
       "      <td>6</td>\n",
       "      <td>6</td>\n",
       "      <td>6</td>\n",
       "      <td>6</td>\n",
       "      <td>6</td>\n",
       "    </tr>\n",
       "    <tr>\n",
       "      <th>...</th>\n",
       "      <td>...</td>\n",
       "      <td>...</td>\n",
       "      <td>...</td>\n",
       "      <td>...</td>\n",
       "      <td>...</td>\n",
       "    </tr>\n",
       "    <tr>\n",
       "      <th>Sci-Fi War</th>\n",
       "      <td>1</td>\n",
       "      <td>1</td>\n",
       "      <td>1</td>\n",
       "      <td>1</td>\n",
       "      <td>1</td>\n",
       "    </tr>\n",
       "    <tr>\n",
       "      <th>Sci-Fi Western</th>\n",
       "      <td>1</td>\n",
       "      <td>1</td>\n",
       "      <td>1</td>\n",
       "      <td>1</td>\n",
       "      <td>1</td>\n",
       "    </tr>\n",
       "    <tr>\n",
       "      <th>Thriller</th>\n",
       "      <td>241</td>\n",
       "      <td>241</td>\n",
       "      <td>241</td>\n",
       "      <td>241</td>\n",
       "      <td>241</td>\n",
       "    </tr>\n",
       "    <tr>\n",
       "      <th>War</th>\n",
       "      <td>12</td>\n",
       "      <td>12</td>\n",
       "      <td>12</td>\n",
       "      <td>12</td>\n",
       "      <td>12</td>\n",
       "    </tr>\n",
       "    <tr>\n",
       "      <th>Western</th>\n",
       "      <td>22</td>\n",
       "      <td>22</td>\n",
       "      <td>22</td>\n",
       "      <td>22</td>\n",
       "      <td>22</td>\n",
       "    </tr>\n",
       "  </tbody>\n",
       "</table>\n",
       "<p>893 rows × 5 columns</p>\n",
       "</div>"
      ],
      "text/plain": [
       "                                            movieId  title  avg_user_rating  \\\n",
       "genres                                                                        \n",
       "Action                                           81     81               81   \n",
       "Action Adventure                                 15     15               15   \n",
       "Action Adventure Animation                       12     12               12   \n",
       "Action Adventure Animation Children               3      3                3   \n",
       "Action Adventure Animation Children Comedy        6      6                6   \n",
       "...                                             ...    ...              ...   \n",
       "Sci-Fi War                                        1      1                1   \n",
       "Sci-Fi Western                                    1      1                1   \n",
       "Thriller                                        241    241              241   \n",
       "War                                              12     12               12   \n",
       "Western                                          22     22               22   \n",
       "\n",
       "                                            year  comb  \n",
       "genres                                                  \n",
       "Action                                        81    81  \n",
       "Action Adventure                              15    15  \n",
       "Action Adventure Animation                    12    12  \n",
       "Action Adventure Animation Children            3     3  \n",
       "Action Adventure Animation Children Comedy     6     6  \n",
       "...                                          ...   ...  \n",
       "Sci-Fi War                                     1     1  \n",
       "Sci-Fi Western                                 1     1  \n",
       "Thriller                                     241   241  \n",
       "War                                           12    12  \n",
       "Western                                       22    22  \n",
       "\n",
       "[893 rows x 5 columns]"
      ]
     },
     "execution_count": 15,
     "metadata": {},
     "output_type": "execute_result"
    }
   ],
   "source": [
    "#checking count of data for each genre to understand distribution of data in each genres\n",
    "samples_movie_df.groupby(\"genres\").count()"
   ]
  },
  {
   "cell_type": "markdown",
   "metadata": {},
   "source": [
    "## Create Feature column for predicting genre and rating together"
   ]
  },
  {
   "cell_type": "code",
   "execution_count": 16,
   "metadata": {
    "scrolled": true
   },
   "outputs": [],
   "source": [
    "#Combining genres and average user ratings together to create feature for building similarity matrix\n",
    "samples_movie_df['feature']=samples_movie_df['genres']+' '+\\\n",
    "samples_movie_df['avg_user_rating'].map(str)"
   ]
  },
  {
   "cell_type": "markdown",
   "metadata": {},
   "source": [
    "## Create Similarity matrix for recommendation"
   ]
  },
  {
   "cell_type": "code",
   "execution_count": 17,
   "metadata": {
    "scrolled": true
   },
   "outputs": [],
   "source": [
    "# Import sklearn libraries to create Count Vectorizer and cosine similarity matrix for prediction\n",
    "from sklearn.feature_extraction.text import CountVectorizer\n",
    "from sklearn.metrics.pairwise import cosine_similarity"
   ]
  },
  {
   "cell_type": "code",
   "execution_count": 18,
   "metadata": {},
   "outputs": [],
   "source": [
    "#Creating a count vector for feature column so that it can be used to create a similarity matrix between movies\n",
    "cv = CountVectorizer()\n",
    "count_matrix = cv.fit_transform(samples_movie_df['feature'])\n",
    "#print(count_matrix)"
   ]
  },
  {
   "cell_type": "code",
   "execution_count": 19,
   "metadata": {},
   "outputs": [
    {
     "name": "stdout",
     "output_type": "stream",
     "text": [
      "[[1.         0.61237244 0.         ... 0.         0.23570226 0.28867513]\n",
      " [0.61237244 1.         0.         ... 0.         0.         0.        ]\n",
      " [0.         0.         1.         ... 0.         0.28867513 0.        ]\n",
      " ...\n",
      " [0.         0.         0.         ... 1.         0.         0.        ]\n",
      " [0.23570226 0.         0.28867513 ... 0.         1.         0.40824829]\n",
      " [0.28867513 0.         0.         ... 0.         0.40824829 1.        ]]\n"
     ]
    }
   ],
   "source": [
    "#creating a similarity score matrix for movies within our dataset\n",
    "sim = cosine_similarity(count_matrix)\n",
    "print(sim)\n",
    "#print(movies_df['comb'])"
   ]
  },
  {
   "cell_type": "markdown",
   "metadata": {},
   "source": [
    "### Movie Recommendation method"
   ]
  },
  {
   "cell_type": "code",
   "execution_count": 20,
   "metadata": {
    "scrolled": true
   },
   "outputs": [
    {
     "name": "stdout",
     "output_type": "stream",
     "text": [
      "title\n",
      "Toy Story (1995)                                               0\n",
      "Jumanji (1995)                                                 1\n",
      "Heat (1995)                                                    2\n",
      "Sabrina (1995)                                                 3\n",
      "GoldenEye (1995)                                               4\n",
      "                                                           ...  \n",
      "Square Roots: The Story of SpongeBob SquarePants (2009)    16592\n",
      "Destination Titan (2011)                                   16593\n",
      "Last Days of the Arctic (2011)                             16594\n",
      "Santosh Subramaniam (2008)                                 16595\n",
      "Bad Poems (2018)                                           16596\n",
      "Length: 16597, dtype: int64\n"
     ]
    }
   ],
   "source": [
    "# Build a 1-dimensional array with movie titles\n",
    "indices = pd.Series(samples_movie_df.index, index=samples_movie_df['title'])\n",
    "print(indices)"
   ]
  },
  {
   "cell_type": "code",
   "execution_count": 21,
   "metadata": {},
   "outputs": [],
   "source": [
    "# Function that get movie recommendations based on the cosine similarity score of movie genres and average rating combined\n",
    "def genre_recommendations(title):\n",
    "    idx = indices[title]\n",
    "    sim_scores = list(enumerate(sim[idx]))\n",
    "    #print(sim_scores)\n",
    "    sim_scores = sorted(sim_scores, key=lambda x: x[1], reverse=True)\n",
    "    sim_scores = sim_scores[0:21] \n",
    "    #print(sim_scores)\n",
    "    movie_indices = [i[0] for i in sim_scores]\n",
    "    print(movie_indices)\n",
    "    return samples_movie_df.iloc[movie_indices[1:11],[1,2,3]].values.tolist()"
   ]
  },
  {
   "cell_type": "markdown",
   "metadata": {},
   "source": [
    "### Saving model for calling in flask app for movie recommendations on website"
   ]
  },
  {
   "cell_type": "code",
   "execution_count": 22,
   "metadata": {},
   "outputs": [],
   "source": [
    "#Import pickle library\n",
    "import pickle"
   ]
  },
  {
   "cell_type": "code",
   "execution_count": 23,
   "metadata": {},
   "outputs": [],
   "source": [
    "#Exporting similariy scores into a .pickl file for use in front-end\n",
    "pickle.dump(sim,open(\"genre_rating_predictor-similaritymatrix.pckl\",\"wb\"))"
   ]
  },
  {
   "cell_type": "code",
   "execution_count": 24,
   "metadata": {},
   "outputs": [],
   "source": [
    "#Exporting dataframe into a .pickl file for use in front-end\n",
    "pickle.dump(samples_movie_df,open(\"movie_df.pckl\",\"wb\"))"
   ]
  },
  {
   "cell_type": "code",
   "execution_count": 25,
   "metadata": {},
   "outputs": [
    {
     "name": "stdout",
     "output_type": "stream",
     "text": [
      "[14012, 11223, 12139, 8141, 8551, 1732, 2542, 3103, 5033, 5127, 5159, 6195, 6684, 6715, 6734, 6896, 7008, 7336, 7398, 7485, 7668]\n"
     ]
    },
    {
     "data": {
      "text/plain": [
       "'[[\\'The Beckoning Silence (2007)\\', \\'Action Documentary Drama\\', 3.5], [\\'McLaren (2016)\\', \\'Action Documentary Drama\\', 3.5], [\\'Cartel Land (2015)\\', \\'Action Documentary Drama\\', 3.61], [\\'A Brokedown Melody (2004)\\', \\'Action Adventure Documentary Drama\\', 3.5], [\\'After the Rain (Ame agaru) (1999) \\', \\'Action Drama\\', 3.8], [\\'God Grew Tired of Us (2006)\\', \\'Documentary Drama\\', 3.9], [\\'Man Named Pearl, A (2006)\\', \\'Documentary\\', 4.19], [\"Rebellion (L\\'ordre et la morale) (2011)\", \\'Action Drama\\', 3.7], [\\'Human Planet (2011)\\', \\'Documentary\\', 4.19], [\\'Ballplayer: Pelotero (2011)\\', \\'Documentary Drama\\', 3.4]]'"
      ]
     },
     "execution_count": 25,
     "metadata": {},
     "output_type": "execute_result"
    }
   ],
   "source": [
    "#Running model to predict score based on movie\n",
    "str(genre_recommendations('The Godfather Family: A Look Inside (1990)'))"
   ]
  },
  {
   "cell_type": "markdown",
   "metadata": {},
   "source": [
    "## Second model considering only Genre and not rating"
   ]
  },
  {
   "cell_type": "code",
   "execution_count": 26,
   "metadata": {},
   "outputs": [],
   "source": [
    "#Creating a count vector for feature column so that it can be used to create a similarity matrix between movies\n",
    "cv = CountVectorizer()\n",
    "count_matrix = cv.fit_transform(samples_movie_df['genres'])\n",
    "#print(count_matrix)"
   ]
  },
  {
   "cell_type": "code",
   "execution_count": 27,
   "metadata": {},
   "outputs": [
    {
     "name": "stdout",
     "output_type": "stream",
     "text": [
      "[[1.         0.77459667 0.         ... 0.         0.25819889 0.31622777]\n",
      " [0.77459667 1.         0.         ... 0.         0.         0.        ]\n",
      " [0.         0.         1.         ... 0.         0.33333333 0.        ]\n",
      " ...\n",
      " [0.         0.         0.         ... 1.         0.         0.        ]\n",
      " [0.25819889 0.         0.33333333 ... 0.         1.         0.40824829]\n",
      " [0.31622777 0.         0.         ... 0.         0.40824829 1.        ]]\n"
     ]
    }
   ],
   "source": [
    "#creating a similarity score matrix for movies within our dataset\n",
    "sim = cosine_similarity(count_matrix)\n",
    "print(sim)\n",
    "#print(movies_df['comb'])"
   ]
  },
  {
   "cell_type": "markdown",
   "metadata": {},
   "source": [
    "#### Saving matrices for prediction using only Genre"
   ]
  },
  {
   "cell_type": "code",
   "execution_count": 28,
   "metadata": {},
   "outputs": [],
   "source": [
    "#creating a similarity score matrix for movies within our dataset\n",
    "pickle.dump(sim,open(\"genrepredictor-similaritymatrix.pckl\",\"wb\"))"
   ]
  },
  {
   "cell_type": "code",
   "execution_count": 29,
   "metadata": {},
   "outputs": [
    {
     "name": "stdout",
     "output_type": "stream",
     "text": [
      "[14012, 11223, 12139, 8141, 8551, 1732, 2542, 3103, 5033, 5127, 5159, 6195, 6684, 6715, 6734, 6896, 7008, 7336, 7398, 7485, 7668]\n"
     ]
    },
    {
     "data": {
      "text/plain": [
       "'[[\\'The Beckoning Silence (2007)\\', \\'Action Documentary Drama\\', 3.5], [\\'McLaren (2016)\\', \\'Action Documentary Drama\\', 3.5], [\\'Cartel Land (2015)\\', \\'Action Documentary Drama\\', 3.61], [\\'A Brokedown Melody (2004)\\', \\'Action Adventure Documentary Drama\\', 3.5], [\\'After the Rain (Ame agaru) (1999) \\', \\'Action Drama\\', 3.8], [\\'God Grew Tired of Us (2006)\\', \\'Documentary Drama\\', 3.9], [\\'Man Named Pearl, A (2006)\\', \\'Documentary\\', 4.19], [\"Rebellion (L\\'ordre et la morale) (2011)\", \\'Action Drama\\', 3.7], [\\'Human Planet (2011)\\', \\'Documentary\\', 4.19], [\\'Ballplayer: Pelotero (2011)\\', \\'Documentary Drama\\', 3.4]]'"
      ]
     },
     "execution_count": 29,
     "metadata": {},
     "output_type": "execute_result"
    }
   ],
   "source": [
    "#Running model to predict score based on movie\n",
    "str(genre_recommendations('The Godfather Family: A Look Inside (1990)'))"
   ]
  },
  {
   "cell_type": "code",
   "execution_count": 30,
   "metadata": {},
   "outputs": [
    {
     "data": {
      "text/plain": [
       "1.0000000000000002"
      ]
     },
     "execution_count": 30,
     "metadata": {},
     "output_type": "execute_result"
    }
   ],
   "source": [
    "sim[12139][11223]"
   ]
  },
  {
   "cell_type": "code",
   "execution_count": null,
   "metadata": {},
   "outputs": [],
   "source": []
  }
 ],
 "metadata": {
  "kernelspec": {
   "display_name": "Python 3",
   "language": "python",
   "name": "python3"
  },
  "language_info": {
   "codemirror_mode": {
    "name": "ipython",
    "version": 3
   },
   "file_extension": ".py",
   "mimetype": "text/x-python",
   "name": "python",
   "nbconvert_exporter": "python",
   "pygments_lexer": "ipython3",
   "version": "3.7.6"
  }
 },
 "nbformat": 4,
 "nbformat_minor": 4
}
