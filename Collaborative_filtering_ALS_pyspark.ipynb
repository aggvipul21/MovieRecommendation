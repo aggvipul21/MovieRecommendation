{
 "cells": [
  {
   "cell_type": "markdown",
   "metadata": {},
   "source": [
    "# Import Libraries"
   ]
  },
  {
   "cell_type": "code",
   "execution_count": 1,
   "metadata": {},
   "outputs": [],
   "source": [
    "import pandas as pd\n",
    "from pyspark.sql import SparkSession\n",
    "from pyspark.sql import SQLContext\n",
    "from pyspark.ml.recommendation import ALS\n",
    "from pyspark.sql import Row\n",
    "import pyspark\n",
    "import numpy as np\n",
    "from pyspark.sql.functions import col, explode"
   ]
  },
  {
   "cell_type": "code",
   "execution_count": 2,
   "metadata": {},
   "outputs": [],
   "source": [
    "ratings_df=pd.read_csv(\"data/ratings.csv\")"
   ]
  },
  {
   "cell_type": "code",
   "execution_count": 3,
   "metadata": {},
   "outputs": [],
   "source": [
    "movies_df=pd.read_csv(\"data/updated_movies.csv\")"
   ]
  },
  {
   "cell_type": "code",
   "execution_count": 4,
   "metadata": {},
   "outputs": [],
   "source": [
    "samples_movie_df=movies_df[movies_df[\"genres\"]!=\"UnKnown\"]"
   ]
  },
  {
   "cell_type": "code",
   "execution_count": 5,
   "metadata": {},
   "outputs": [],
   "source": [
    "samples_movie_df=samples_movie_df[((samples_movie_df['avg_user_rating']>=4)& \n",
    "                                   (samples_movie_df['year']>=1980))]\n"
   ]
  },
  {
   "cell_type": "code",
   "execution_count": 6,
   "metadata": {},
   "outputs": [],
   "source": [
    "sample_ratings_df=ratings_df.merge(samples_movie_df,on=\"movieId\")"
   ]
  },
  {
   "cell_type": "code",
   "execution_count": 7,
   "metadata": {},
   "outputs": [
    {
     "data": {
      "text/plain": [
       "userId             2506487\n",
       "movieId            2506487\n",
       "rating             2506487\n",
       "timestamp          2506487\n",
       "title              2506487\n",
       "genres             2506487\n",
       "avg_user_rating    2506487\n",
       "year               2506487\n",
       "comb               2506487\n",
       "dtype: int64"
      ]
     },
     "execution_count": 7,
     "metadata": {},
     "output_type": "execute_result"
    }
   ],
   "source": [
    "sample_ratings_df.count()"
   ]
  },
  {
   "cell_type": "code",
   "execution_count": 8,
   "metadata": {},
   "outputs": [],
   "source": [
    "sample_ratings_df.to_csv(\"data/sample_ratings_df.csv\")"
   ]
  },
  {
   "cell_type": "markdown",
   "metadata": {},
   "source": [
    "# Initiate Spark Session"
   ]
  },
  {
   "cell_type": "code",
   "execution_count": 9,
   "metadata": {},
   "outputs": [],
   "source": [
    "scSpark = SparkSession \\\n",
    "        .builder \\\n",
    "        .master(\"local[*]\") \\\n",
    "        .config(\"spark.driver.memory\", \"6g\") \\\n",
    "        .getOrCreate()\n"
   ]
  },
  {
   "cell_type": "code",
   "execution_count": 10,
   "metadata": {},
   "outputs": [],
   "source": [
    "# Load data into spark dataframe\n",
    "ratings = scSpark.read\\\n",
    "            .option(\"inferSchema\", \"true\")\\\n",
    "            .csv(\"data/sample_ratings_df.csv\", header=True, sep=\",\")"
   ]
  },
  {
   "cell_type": "code",
   "execution_count": 11,
   "metadata": {
    "scrolled": false
   },
   "outputs": [
    {
     "name": "stdout",
     "output_type": "stream",
     "text": [
      "root\n",
      " |-- _c0: integer (nullable = true)\n",
      " |-- userId: integer (nullable = true)\n",
      " |-- movieId: integer (nullable = true)\n",
      " |-- rating: double (nullable = true)\n",
      " |-- timestamp: integer (nullable = true)\n",
      " |-- title: string (nullable = true)\n",
      " |-- genres: string (nullable = true)\n",
      " |-- avg_user_rating: double (nullable = true)\n",
      " |-- year: integer (nullable = true)\n",
      " |-- comb: string (nullable = true)\n",
      "\n"
     ]
    }
   ],
   "source": [
    "# Check dataframe schema\n",
    "ratings.printSchema()"
   ]
  },
  {
   "cell_type": "code",
   "execution_count": 12,
   "metadata": {
    "scrolled": true
   },
   "outputs": [
    {
     "name": "stdout",
     "output_type": "stream",
     "text": [
      "+---+------+-------+------+----------+-------------------+---------------------------+-----------------+----+---------------------------------------+\n",
      "|_c0|userId|movieId|rating|timestamp |title              |genres                     |avg_user_rating  |year|comb                                   |\n",
      "+---+------+-------+------+----------+-------------------+---------------------------+-----------------+----+---------------------------------------+\n",
      "|0  |1     |296    |5.0   |1147880044|Pulp Fiction (1994)|Comedy Crime Drama Thriller|4.188912039361382|1994|Comedy Crime Drama Thriller 4.1889 1994|\n",
      "|1  |3     |296    |5.0   |1439474476|Pulp Fiction (1994)|Comedy Crime Drama Thriller|4.188912039361382|1994|Comedy Crime Drama Thriller 4.1889 1994|\n",
      "|2  |4     |296    |4.0   |1573938898|Pulp Fiction (1994)|Comedy Crime Drama Thriller|4.188912039361382|1994|Comedy Crime Drama Thriller 4.1889 1994|\n",
      "|3  |5     |296    |4.0   |830786155 |Pulp Fiction (1994)|Comedy Crime Drama Thriller|4.188912039361382|1994|Comedy Crime Drama Thriller 4.1889 1994|\n",
      "|4  |7     |296    |4.0   |835444730 |Pulp Fiction (1994)|Comedy Crime Drama Thriller|4.188912039361382|1994|Comedy Crime Drama Thriller 4.1889 1994|\n",
      "|5  |8     |296    |5.0   |890489713 |Pulp Fiction (1994)|Comedy Crime Drama Thriller|4.188912039361382|1994|Comedy Crime Drama Thriller 4.1889 1994|\n",
      "|6  |10    |296    |4.5   |1227571308|Pulp Fiction (1994)|Comedy Crime Drama Thriller|4.188912039361382|1994|Comedy Crime Drama Thriller 4.1889 1994|\n",
      "|7  |12    |296    |5.0   |1119354604|Pulp Fiction (1994)|Comedy Crime Drama Thriller|4.188912039361382|1994|Comedy Crime Drama Thriller 4.1889 1994|\n",
      "|8  |13    |296    |5.0   |1238029599|Pulp Fiction (1994)|Comedy Crime Drama Thriller|4.188912039361382|1994|Comedy Crime Drama Thriller 4.1889 1994|\n",
      "|9  |14    |296    |5.0   |1506208897|Pulp Fiction (1994)|Comedy Crime Drama Thriller|4.188912039361382|1994|Comedy Crime Drama Thriller 4.1889 1994|\n",
      "|10 |15    |296    |5.0   |946013314 |Pulp Fiction (1994)|Comedy Crime Drama Thriller|4.188912039361382|1994|Comedy Crime Drama Thriller 4.1889 1994|\n",
      "|11 |18    |296    |3.0   |1108273426|Pulp Fiction (1994)|Comedy Crime Drama Thriller|4.188912039361382|1994|Comedy Crime Drama Thriller 4.1889 1994|\n",
      "|12 |19    |296    |3.5   |1466674637|Pulp Fiction (1994)|Comedy Crime Drama Thriller|4.188912039361382|1994|Comedy Crime Drama Thriller 4.1889 1994|\n",
      "|13 |22    |296    |3.0   |832862128 |Pulp Fiction (1994)|Comedy Crime Drama Thriller|4.188912039361382|1994|Comedy Crime Drama Thriller 4.1889 1994|\n",
      "|14 |23    |296    |5.0   |942964550 |Pulp Fiction (1994)|Comedy Crime Drama Thriller|4.188912039361382|1994|Comedy Crime Drama Thriller 4.1889 1994|\n",
      "|15 |25    |296    |5.0   |836216901 |Pulp Fiction (1994)|Comedy Crime Drama Thriller|4.188912039361382|1994|Comedy Crime Drama Thriller 4.1889 1994|\n",
      "|16 |26    |296    |3.0   |1280515788|Pulp Fiction (1994)|Comedy Crime Drama Thriller|4.188912039361382|1994|Comedy Crime Drama Thriller 4.1889 1994|\n",
      "|17 |31    |296    |3.0   |1256229864|Pulp Fiction (1994)|Comedy Crime Drama Thriller|4.188912039361382|1994|Comedy Crime Drama Thriller 4.1889 1994|\n",
      "|18 |32    |296    |5.0   |839020162 |Pulp Fiction (1994)|Comedy Crime Drama Thriller|4.188912039361382|1994|Comedy Crime Drama Thriller 4.1889 1994|\n",
      "|19 |33    |296    |4.5   |1552804447|Pulp Fiction (1994)|Comedy Crime Drama Thriller|4.188912039361382|1994|Comedy Crime Drama Thriller 4.1889 1994|\n",
      "+---+------+-------+------+----------+-------------------+---------------------------+-----------------+----+---------------------------------------+\n",
      "only showing top 20 rows\n",
      "\n"
     ]
    }
   ],
   "source": [
    "#Check for first 20 records\n",
    "ratings.show(20,False)"
   ]
  },
  {
   "cell_type": "code",
   "execution_count": 13,
   "metadata": {},
   "outputs": [],
   "source": [
    "#drop timestamp\n",
    "ratings = ratings.drop(*['timestamp','avg_user_rating','year','comb'])"
   ]
  },
  {
   "cell_type": "code",
   "execution_count": 14,
   "metadata": {},
   "outputs": [
    {
     "name": "stdout",
     "output_type": "stream",
     "text": [
      "+---+------+-------+------+-------------------+--------------------+\n",
      "|_c0|userId|movieId|rating|              title|              genres|\n",
      "+---+------+-------+------+-------------------+--------------------+\n",
      "|  0|     1|    296|   5.0|Pulp Fiction (1994)|Comedy Crime Dram...|\n",
      "|  1|     3|    296|   5.0|Pulp Fiction (1994)|Comedy Crime Dram...|\n",
      "|  2|     4|    296|   4.0|Pulp Fiction (1994)|Comedy Crime Dram...|\n",
      "|  3|     5|    296|   4.0|Pulp Fiction (1994)|Comedy Crime Dram...|\n",
      "|  4|     7|    296|   4.0|Pulp Fiction (1994)|Comedy Crime Dram...|\n",
      "|  5|     8|    296|   5.0|Pulp Fiction (1994)|Comedy Crime Dram...|\n",
      "|  6|    10|    296|   4.5|Pulp Fiction (1994)|Comedy Crime Dram...|\n",
      "|  7|    12|    296|   5.0|Pulp Fiction (1994)|Comedy Crime Dram...|\n",
      "|  8|    13|    296|   5.0|Pulp Fiction (1994)|Comedy Crime Dram...|\n",
      "|  9|    14|    296|   5.0|Pulp Fiction (1994)|Comedy Crime Dram...|\n",
      "| 10|    15|    296|   5.0|Pulp Fiction (1994)|Comedy Crime Dram...|\n",
      "| 11|    18|    296|   3.0|Pulp Fiction (1994)|Comedy Crime Dram...|\n",
      "| 12|    19|    296|   3.5|Pulp Fiction (1994)|Comedy Crime Dram...|\n",
      "| 13|    22|    296|   3.0|Pulp Fiction (1994)|Comedy Crime Dram...|\n",
      "| 14|    23|    296|   5.0|Pulp Fiction (1994)|Comedy Crime Dram...|\n",
      "| 15|    25|    296|   5.0|Pulp Fiction (1994)|Comedy Crime Dram...|\n",
      "| 16|    26|    296|   3.0|Pulp Fiction (1994)|Comedy Crime Dram...|\n",
      "| 17|    31|    296|   3.0|Pulp Fiction (1994)|Comedy Crime Dram...|\n",
      "| 18|    32|    296|   5.0|Pulp Fiction (1994)|Comedy Crime Dram...|\n",
      "| 19|    33|    296|   4.5|Pulp Fiction (1994)|Comedy Crime Dram...|\n",
      "+---+------+-------+------+-------------------+--------------------+\n",
      "only showing top 20 rows\n",
      "\n"
     ]
    }
   ],
   "source": [
    "ratings.show()"
   ]
  },
  {
   "cell_type": "code",
   "execution_count": 15,
   "metadata": {},
   "outputs": [
    {
     "data": {
      "text/plain": [
       "2506487"
      ]
     },
     "execution_count": 15,
     "metadata": {},
     "output_type": "execute_result"
    }
   ],
   "source": [
    "#Checking the number of records in dataframe\n",
    "ratings.count()"
   ]
  },
  {
   "cell_type": "code",
   "execution_count": 16,
   "metadata": {},
   "outputs": [
    {
     "data": {
      "text/plain": [
       "50174"
      ]
     },
     "execution_count": 16,
     "metadata": {},
     "output_type": "execute_result"
    }
   ],
   "source": [
    "#Reducing the size of dataset initially to train model\n",
    "sample_ratings_df = ratings.sample(fraction=0.02, seed=42)\n",
    "sample_ratings_df.count()"
   ]
  },
  {
   "cell_type": "code",
   "execution_count": 17,
   "metadata": {},
   "outputs": [
    {
     "name": "stdout",
     "output_type": "stream",
     "text": [
      "+----+------+-------+------+-------------------+--------------------+\n",
      "| _c0|userId|movieId|rating|              title|              genres|\n",
      "+----+------+-------+------+-------------------+--------------------+\n",
      "|  16|    26|    296|   3.0|Pulp Fiction (1994)|Comedy Crime Dram...|\n",
      "| 105|   217|    296|   5.0|Pulp Fiction (1994)|Comedy Crime Dram...|\n",
      "| 109|   227|    296|   5.0|Pulp Fiction (1994)|Comedy Crime Dram...|\n",
      "| 185|   378|    296|   3.0|Pulp Fiction (1994)|Comedy Crime Dram...|\n",
      "| 201|   413|    296|   3.5|Pulp Fiction (1994)|Comedy Crime Dram...|\n",
      "| 236|   494|    296|   4.0|Pulp Fiction (1994)|Comedy Crime Dram...|\n",
      "| 255|   541|    296|   5.0|Pulp Fiction (1994)|Comedy Crime Dram...|\n",
      "| 313|   664|    296|   5.0|Pulp Fiction (1994)|Comedy Crime Dram...|\n",
      "| 332|   705|    296|   3.5|Pulp Fiction (1994)|Comedy Crime Dram...|\n",
      "| 395|   832|    296|   4.0|Pulp Fiction (1994)|Comedy Crime Dram...|\n",
      "| 495|  1038|    296|   5.0|Pulp Fiction (1994)|Comedy Crime Dram...|\n",
      "| 595|  1224|    296|   2.5|Pulp Fiction (1994)|Comedy Crime Dram...|\n",
      "| 679|  1382|    296|   0.5|Pulp Fiction (1994)|Comedy Crime Dram...|\n",
      "| 712|  1444|    296|   5.0|Pulp Fiction (1994)|Comedy Crime Dram...|\n",
      "| 774|  1571|    296|   5.0|Pulp Fiction (1994)|Comedy Crime Dram...|\n",
      "| 826|  1677|    296|   4.0|Pulp Fiction (1994)|Comedy Crime Dram...|\n",
      "| 954|  1939|    296|   5.0|Pulp Fiction (1994)|Comedy Crime Dram...|\n",
      "|1009|  2048|    296|   3.5|Pulp Fiction (1994)|Comedy Crime Dram...|\n",
      "|1161|  2380|    296|   3.0|Pulp Fiction (1994)|Comedy Crime Dram...|\n",
      "|1163|  2390|    296|   4.0|Pulp Fiction (1994)|Comedy Crime Dram...|\n",
      "+----+------+-------+------+-------------------+--------------------+\n",
      "only showing top 20 rows\n",
      "\n"
     ]
    }
   ],
   "source": [
    "sample_ratings_df.show()"
   ]
  },
  {
   "cell_type": "code",
   "execution_count": 18,
   "metadata": {},
   "outputs": [],
   "source": [
    "spark = pyspark.sql.SparkSession \\\n",
    "    .builder \\\n",
    "    .appName(\"spark_lens\") \\\n",
    "    .master(\"local[2]\") \\\n",
    "    .getOrCreate()"
   ]
  },
  {
   "cell_type": "code",
   "execution_count": 19,
   "metadata": {},
   "outputs": [
    {
     "name": "stdout",
     "output_type": "stream",
     "text": [
      "+-----+\n",
      "|nulls|\n",
      "+-----+\n",
      "|    0|\n",
      "+-----+\n",
      "\n"
     ]
    }
   ],
   "source": [
    "# Register temp table.\n",
    "#checking for nulls \n",
    "sample_ratings_df.registerTempTable('rating')\n",
    "# Query table for number of nulls.\n",
    "spark.sql('''\n",
    "    SELECT COUNT(rating) AS nulls\n",
    "    FROM rating \n",
    "    WHERE rating=null\n",
    "''').show()"
   ]
  },
  {
   "cell_type": "markdown",
   "metadata": {},
   "source": [
    "# Build model"
   ]
  },
  {
   "cell_type": "code",
   "execution_count": 20,
   "metadata": {},
   "outputs": [],
   "source": [
    "#Split Training and Test data\n",
    "training, test = sample_ratings_df.randomSplit([0.8, 0.2])"
   ]
  },
  {
   "cell_type": "code",
   "execution_count": 21,
   "metadata": {},
   "outputs": [
    {
     "data": {
      "text/plain": [
       "40042"
      ]
     },
     "execution_count": 21,
     "metadata": {},
     "output_type": "execute_result"
    }
   ],
   "source": [
    "training.count()"
   ]
  },
  {
   "cell_type": "code",
   "execution_count": 22,
   "metadata": {},
   "outputs": [
    {
     "data": {
      "text/plain": [
       "pyspark.ml.recommendation.ALS"
      ]
     },
     "execution_count": 22,
     "metadata": {},
     "output_type": "execute_result"
    }
   ],
   "source": [
    "#Create Basic Model\n",
    "als = ALS(nonnegative=True, implicitPrefs=False, coldStartStrategy=\"drop\")\\\n",
    ".setMaxIter(5)\\\n",
    ".setRegParam(0.01)\\\n",
    ".setUserCol(\"userId\")\\\n",
    ".setItemCol(\"movieId\")\\\n",
    ".setRatingCol(\"rating\")\\\n",
    "\n",
    "\n",
    "# Confirm that a model called \"als\" was created\n",
    "type(als)"
   ]
  },
  {
   "cell_type": "code",
   "execution_count": 23,
   "metadata": {},
   "outputs": [
    {
     "data": {
      "text/plain": [
       "\"alpha: alpha for implicit preference (default: 1.0)\\nblockSize: block size for stacking input data in matrices. Data is stacked within partitions. If block size is more than remaining data in a partition then it is adjusted to the size of this data. (default: 4096)\\ncheckpointInterval: set checkpoint interval (>= 1) or disable checkpoint (-1). E.g. 10 means that the cache will get checkpointed every 10 iterations. Note: this setting will be ignored if the checkpoint directory is not set in the SparkContext. (default: 10)\\ncoldStartStrategy: strategy for dealing with unknown or new users/items at prediction time. This may be useful in cross-validation or production scenarios, for handling user/item ids the model has not seen in the training data. Supported values: 'nan', 'drop'. (default: nan, current: drop)\\nfinalStorageLevel: StorageLevel for ALS model factors. (default: MEMORY_AND_DISK)\\nimplicitPrefs: whether to use implicit preference (default: False, current: False)\\nintermediateStorageLevel: StorageLevel for intermediate datasets. Cannot be 'NONE'. (default: MEMORY_AND_DISK)\\nitemCol: column name for item ids. Ids must be within the integer value range. (default: item, current: movieId)\\nmaxIter: max number of iterations (>= 0). (default: 10, current: 5)\\nnonnegative: whether to use nonnegative constraint for least squares (default: False, current: True)\\nnumItemBlocks: number of item blocks (default: 10)\\nnumUserBlocks: number of user blocks (default: 10)\\npredictionCol: prediction column name. (default: prediction)\\nrank: rank of the factorization (default: 10)\\nratingCol: column name for ratings (default: rating, current: rating)\\nregParam: regularization parameter (>= 0). (default: 0.1, current: 0.01)\\nseed: random seed. (default: -7622876411769025154)\\nuserCol: column name for user ids. Ids must be within the integer value range. (default: user, current: userId)\""
      ]
     },
     "execution_count": 23,
     "metadata": {},
     "output_type": "execute_result"
    }
   ],
   "source": [
    "als.explainParams()\n"
   ]
  },
  {
   "cell_type": "code",
   "execution_count": 24,
   "metadata": {},
   "outputs": [
    {
     "name": "stdout",
     "output_type": "stream",
     "text": [
      "Num models to be tested:  16\n"
     ]
    }
   ],
   "source": [
    "# Import the requisite items\n",
    "from pyspark.ml.evaluation import RegressionEvaluator\n",
    "from pyspark.ml.tuning import ParamGridBuilder, CrossValidator\n",
    "\n",
    "# Add hyperparameters and their respective values to param_grid\n",
    "param_grid = ParamGridBuilder() \\\n",
    "            .addGrid(als.rank, [10, 50, 100, 150]) \\\n",
    "            .addGrid(als.regParam, [.01, .05, .1, .15]) \\\n",
    "            .build()\n",
    "           \n",
    "# Define evaluator as RMSE and print length of evaluator\n",
    "evaluator = RegressionEvaluator(metricName=\"rmse\", labelCol=\"rating\", predictionCol=\"prediction\") \n",
    "print (\"Num models to be tested: \", len(param_grid))"
   ]
  },
  {
   "cell_type": "code",
   "execution_count": 25,
   "metadata": {},
   "outputs": [
    {
     "name": "stdout",
     "output_type": "stream",
     "text": [
      "CrossValidator_297e50643a6b\n"
     ]
    }
   ],
   "source": [
    "# Build cross validation using CrossValidator\n",
    "cv = CrossValidator(estimator=als, estimatorParamMaps=param_grid, evaluator=evaluator, numFolds=5)\n",
    "\n",
    "# Confirm cv was built\n",
    "print(cv)"
   ]
  },
  {
   "cell_type": "code",
   "execution_count": 26,
   "metadata": {},
   "outputs": [],
   "source": [
    "#Fit cross validator to the 'train' dataset\n",
    "model = cv.fit(training)\n",
    "\n",
    "#Extract best model from the cv model above\n",
    "alsmodel = model.bestModel"
   ]
  },
  {
   "cell_type": "code",
   "execution_count": 27,
   "metadata": {},
   "outputs": [
    {
     "name": "stdout",
     "output_type": "stream",
     "text": [
      "<class 'pyspark.ml.recommendation.ALSModel'>\n",
      "**Best Model**\n",
      "  Rank: 10\n",
      "  MaxIter: 5\n",
      "  RegParam: 0.15\n"
     ]
    }
   ],
   "source": [
    "# Print best_model\n",
    "print(type(alsmodel))\n",
    "\n",
    "# Complete the code below to extract the ALS model parameters\n",
    "print(\"**Best Model**\")\n",
    "\n",
    "# # Print \"Rank\"\n",
    "print(\"  Rank:\", alsmodel._java_obj.parent().getRank())\n",
    "\n",
    "# Print \"MaxIter\"\n",
    "print(\"  MaxIter:\", alsmodel._java_obj.parent().getMaxIter())\n",
    "\n",
    "# Print \"RegParam\"\n",
    "print(\"  RegParam:\", alsmodel._java_obj.parent().getRegParam())"
   ]
  },
  {
   "cell_type": "code",
   "execution_count": 28,
   "metadata": {},
   "outputs": [
    {
     "name": "stdout",
     "output_type": "stream",
     "text": [
      "1.6720604233002658\n"
     ]
    }
   ],
   "source": [
    "# View the predictions\n",
    "test_predictions = alsmodel.transform(test)\n",
    "RMSE = evaluator.evaluate(test_predictions)\n",
    "print(RMSE)"
   ]
  },
  {
   "cell_type": "code",
   "execution_count": 29,
   "metadata": {},
   "outputs": [
    {
     "name": "stdout",
     "output_type": "stream",
     "text": [
      "+-------+------+-------+------+--------------------+--------------------+----------+\n",
      "|    _c0|userId|movieId|rating|               title|              genres|prediction|\n",
      "+-------+------+-------+------+--------------------+--------------------+----------+\n",
      "|2461646| 28951|  32460|   4.0|Knockin' on Heave...|Action Comedy Cri...| 3.6830893|\n",
      "|2461624| 22101|  32460|   3.5|Knockin' on Heave...|Action Comedy Cri...| 4.1876817|\n",
      "|2461928| 86618|  32460|   5.0|Knockin' on Heave...|Action Comedy Cri...|  2.223307|\n",
      "|1609925|116151|  48780|   4.0|Prestige, The (2006)|Drama Mystery Sci...| 3.8660324|\n",
      "|1598676| 36580|  48780|   5.0|Prestige, The (2006)|Drama Mystery Sci...|  2.055814|\n",
      "|1604632| 78559|  48780|   5.0|Prestige, The (2006)|Drama Mystery Sci...| 3.6710186|\n",
      "|1615716|157642|  48780|   4.0|Prestige, The (2006)|Drama Mystery Sci...|  3.859186|\n",
      "|1595983| 18057|  48780|   3.0|Prestige, The (2006)|Drama Mystery Sci...| 2.4594297|\n",
      "|1616178|160951|  48780|   4.5|Prestige, The (2006)|Drama Mystery Sci...| 3.3417757|\n",
      "|1612125|132288|  48780|   3.5|Prestige, The (2006)|Drama Mystery Sci...| 1.9475443|\n",
      "|1613452|141647|  48780|   4.5|Prestige, The (2006)|Drama Mystery Sci...| 2.1392632|\n",
      "|1610542|120539|  48780|   4.0|Prestige, The (2006)|Drama Mystery Sci...| 2.5229044|\n",
      "|1615558|156445|  48780|   2.0|Prestige, The (2006)|Drama Mystery Sci...| 3.4036279|\n",
      "|1614400|148327|  48780|   3.5|Prestige, The (2006)|Drama Mystery Sci...| 1.4533207|\n",
      "|1596223| 19782|  48780|   4.5|Prestige, The (2006)|Drama Mystery Sci...|  3.153631|\n",
      "|1599129| 39623|  48780|   5.0|Prestige, The (2006)|Drama Mystery Sci...|  3.420172|\n",
      "|1602915| 66074|  48780|   5.0|Prestige, The (2006)|Drama Mystery Sci...| 3.3166945|\n",
      "|1615920|159086|  48780|   4.5|Prestige, The (2006)|Drama Mystery Sci...| 3.4159758|\n",
      "|1599684| 43584|  48780|   4.5|Prestige, The (2006)|Drama Mystery Sci...| 1.4187855|\n",
      "|1602664| 64340|  48780|   3.5|Prestige, The (2006)|Drama Mystery Sci...| 3.1174355|\n",
      "+-------+------+-------+------+--------------------+--------------------+----------+\n",
      "only showing top 20 rows\n",
      "\n"
     ]
    }
   ],
   "source": [
    "test_predictions.show()"
   ]
  },
  {
   "cell_type": "code",
   "execution_count": 30,
   "metadata": {},
   "outputs": [
    {
     "name": "stdout",
     "output_type": "stream",
     "text": [
      "+------+--------------------+\n",
      "|userId|     recommendations|\n",
      "+------+--------------------+\n",
      "|  1342|[[118268, 5.91144...|\n",
      "|  1959|[[179499, 9.02109...|\n",
      "|  2122|[[134796, 1.80805...|\n",
      "|  2866|[[181699, 9.54523...|\n",
      "|  3175|[[181699, 9.75988...|\n",
      "|  3749|[[142881, 6.04344...|\n",
      "|  3794|[[137052, 9.67334...|\n",
      "|  5300|[[179499, 7.21687...|\n",
      "|  5803|[[128862, 8.04416...|\n",
      "|  6357|[[195211, 9.16718...|\n",
      "|  7240|[[188173, 7.51155...|\n",
      "|  7253|[[181699, 9.75988...|\n",
      "|  9427|[[139088, 8.84895...|\n",
      "| 10206|[[128862, 5.07594...|\n",
      "| 11033|[[179499, 9.02109...|\n",
      "| 11141|[[142881, 9.06517...|\n",
      "| 13840|[[118268, 9.10882...|\n",
      "| 15447|[[181699, 4.48308...|\n",
      "| 15727|[[188173, 6.66739...|\n",
      "| 16503|[[128862, 7.57408...|\n",
      "+------+--------------------+\n",
      "only showing top 20 rows\n",
      "\n"
     ]
    }
   ],
   "source": [
    "nrecoomendations=alsmodel.recommendForAllUsers(5)\n",
    "nrecoomendations.show()"
   ]
  },
  {
   "cell_type": "code",
   "execution_count": 31,
   "metadata": {},
   "outputs": [
    {
     "name": "stdout",
     "output_type": "stream",
     "text": [
      "+------+-------+---------+\n",
      "|userId|movieId|   rating|\n",
      "+------+-------+---------+\n",
      "|  1342| 118268|5.9114494|\n",
      "|  1342| 188173|5.6055145|\n",
      "|  1342| 184147| 5.301752|\n",
      "|  1342| 168476| 5.024436|\n",
      "|  1342| 181699| 4.473131|\n",
      "|  1959| 179499| 9.021095|\n",
      "|  1959| 181699| 8.366581|\n",
      "|  1959| 139088| 8.357357|\n",
      "|  1959|  26587| 8.194602|\n",
      "|  1959| 137052|   8.0789|\n",
      "+------+-------+---------+\n",
      "\n"
     ]
    }
   ],
   "source": [
    "nrecoomendations = nrecoomendations\\\n",
    "    .withColumn(\"rec_exp\", explode(\"recommendations\"))\\\n",
    "    .select('userId', col(\"rec_exp.movieId\"), col(\"rec_exp.rating\"))\n",
    "\n",
    "nrecoomendations.limit(10).show()"
   ]
  },
  {
   "cell_type": "code",
   "execution_count": 32,
   "metadata": {},
   "outputs": [],
   "source": [
    "# Load data into spark dataframe\n",
    "movies = scSpark.read\\\n",
    "            .option(\"inferSchema\", \"true\")\\\n",
    "            .csv(\"data/movies.csv\", header=True, sep=\",\")"
   ]
  },
  {
   "cell_type": "code",
   "execution_count": 33,
   "metadata": {
    "scrolled": true
   },
   "outputs": [
    {
     "name": "stdout",
     "output_type": "stream",
     "text": [
      "+-------+-------+------+------+--------------------+--------------------+--------------------+--------------------+\n",
      "|movieId|    _c0|userId|rating|               title|              genres|               title|              genres|\n",
      "+-------+-------+------+------+--------------------+--------------------+--------------------+--------------------+\n",
      "|   4973|  97826|  7340|   5.0|Amelie (Fabuleux ...|      Comedy Romance|Amelie (Fabuleux ...|      Comedy|Romance|\n",
      "|   6016| 182780|  7340|   5.0|City of God (Cida...|Action Adventure ...|City of God (Cida...|Action|Adventure|...|\n",
      "|    318| 297826|  7340|   5.0|Shawshank Redempt...|         Crime Drama|Shawshank Redempt...|         Crime|Drama|\n",
      "|  44555|2163096|  7340|   5.0|Lives of Others, ...|Drama Romance Thr...|Lives of Others, ...|Drama|Romance|Thr...|\n",
      "|   2931|2405328|  7340|   5.0|Time of the Gypsi...|Comedy Crime Dram...|Time of the Gypsi...|Comedy|Crime|Dram...|\n",
      "|     50| 973471|  7340|   4.5|Usual Suspects, T...|Crime Mystery Thr...|Usual Suspects, T...|Crime|Mystery|Thr...|\n",
      "|    608|1968521|  7340|   4.5|        Fargo (1996)|Comedy Crime Dram...|        Fargo (1996)|Comedy|Crime|Dram...|\n",
      "|   2959|1427944|  7340|   4.5|   Fight Club (1999)|Action Crime Dram...|   Fight Club (1999)|Action|Crime|Dram...|\n",
      "|   1197| 576588|  7340|   4.5|Princess Bride, T...|Action Adventure ...|Princess Bride, T...|Action|Adventure|...|\n",
      "|   7361| 203265|  7340|   4.5|Eternal Sunshine ...|Drama Romance Sci-Fi|Eternal Sunshine ...|Drama|Romance|Sci-Fi|\n",
      "+-------+-------+------+------+--------------------+--------------------+--------------------+--------------------+\n",
      "\n"
     ]
    }
   ],
   "source": [
    "ratings.join(movies, on='movieId').filter('userId = 7340').sort('rating', ascending=False).limit(10).show()"
   ]
  },
  {
   "cell_type": "code",
   "execution_count": 34,
   "metadata": {},
   "outputs": [
    {
     "name": "stdout",
     "output_type": "stream",
     "text": [
      "+-------+------+------+-----+------+\n",
      "|movieId|userId|rating|title|genres|\n",
      "+-------+------+------+-----+------+\n",
      "+-------+------+------+-----+------+\n",
      "\n"
     ]
    }
   ],
   "source": [
    "nrecoomendations.join(movies, on='movieId').filter('userId=7340').sort('rating', ascending=False).limit(10).show()"
   ]
  },
  {
   "cell_type": "code",
   "execution_count": 35,
   "metadata": {},
   "outputs": [],
   "source": [
    "#Exporting model into a .pickl file for use in front-end\n",
    "nrecoomendations.toPandas().to_csv(\"collab_filter_recommendations.csv\")"
   ]
  },
  {
   "cell_type": "code",
   "execution_count": 36,
   "metadata": {},
   "outputs": [],
   "source": [
    "movies.toPandas().to_csv(\"collab_filter_movies.csv\")"
   ]
  }
 ],
 "metadata": {
  "kernelspec": {
   "display_name": "Python 3",
   "language": "python",
   "name": "python3"
  },
  "language_info": {
   "codemirror_mode": {
    "name": "ipython",
    "version": 3
   },
   "file_extension": ".py",
   "mimetype": "text/x-python",
   "name": "python",
   "nbconvert_exporter": "python",
   "pygments_lexer": "ipython3",
   "version": "3.7.6"
  }
 },
 "nbformat": 4,
 "nbformat_minor": 4
}
