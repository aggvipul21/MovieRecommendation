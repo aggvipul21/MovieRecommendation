{
 "cells": [
  {
   "cell_type": "code",
   "execution_count": 1,
   "metadata": {
    "colab": {},
    "colab_type": "code",
    "id": "YV4ajtm-iijA"
   },
   "outputs": [],
   "source": [
    "# Set Environment Variables\n",
    "import os\n",
    "os.environ[\"JAVA_HOME\"] = \"C:\\Program Files\\Java\\jdk1.8.0_241\"\n",
    "os.environ[\"SPARK_HOME\"] = \"D:\\spark-2.4.5-bin-hadoop2.7\"\n",
    "\n",
    "# Start a SparkSession\n",
    "import findspark\n",
    "findspark.init()"
   ]
  },
  {
   "cell_type": "code",
   "execution_count": 2,
   "metadata": {},
   "outputs": [],
   "source": [
    "from pyspark import SparkFiles\n",
    "from pyspark.sql.types import *\n",
    "from pyspark.sql import SparkSession\n",
    "from pyspark.ml.feature import *\n",
    "from pyspark.ml.classification import *\n",
    "from pyspark.ml import Pipeline\n",
    "from pyspark.sql.functions import *\n",
    "from pyspark.ml.evaluation import BinaryClassificationEvaluator, MulticlassClassificationEvaluator\n"
   ]
  },
  {
   "cell_type": "code",
   "execution_count": 3,
   "metadata": {
    "colab": {},
    "colab_type": "code",
    "id": "21VIzGHIioxp"
   },
   "outputs": [],
   "source": [
    "spark = SparkSession.builder \\\n",
    "    .master(\"local[*]\") \\\n",
    "    .config(\"spark.driver.memory\", \"14g\") \\\n",
    "    .appName(\"CloudETLProject\") \\\n",
    "    .getOrCreate()   "
   ]
  },
  {
   "cell_type": "code",
   "execution_count": 4,
   "metadata": {
    "colab": {
     "base_uri": "https://localhost:8080/",
     "height": 325
    },
    "colab_type": "code",
    "executionInfo": {
     "elapsed": 8664,
     "status": "ok",
     "timestamp": 1586025330794,
     "user": {
      "displayName": "Brendan Connelly",
      "photoUrl": "https://lh3.googleusercontent.com/a-/AOh14Gjtcp6dD2Url1718T3-WDO7Ysk-bKDRN52gNtJD=s64",
      "userId": "04271172207590963865"
     },
     "user_tz": 240
    },
    "id": "vGQc0BlXit96",
    "outputId": "6fe8fee3-08d5-4440-e6a2-5f35cc7b3b22"
   },
   "outputs": [
    {
     "name": "stdout",
     "output_type": "stream",
     "text": [
      "root\n",
      " |-- review_id: string (nullable = true)\n",
      " |-- user_id: string (nullable = true)\n",
      " |-- business_id: string (nullable = true)\n",
      " |-- stars: integer (nullable = true)\n",
      " |-- date: string (nullable = true)\n",
      " |-- text: string (nullable = true)\n",
      " |-- useful: string (nullable = true)\n",
      " |-- funny: string (nullable = true)\n",
      " |-- cool: string (nullable = true)\n",
      "\n"
     ]
    }
   ],
   "source": [
    "# Load in user_data.csv from S3 into a DataFrame\n",
    "url = \"D:\\Projects\\yelp-dataset\\yelp_review.csv\"\n",
    "spark.sparkContext.addFile(url)\n",
    "\n",
    "yelpSchema = StructType([\n",
    "    StructField(\"review_id\",StringType(), True),\n",
    "    StructField(\"user_id\",StringType(), True),\n",
    "    StructField(\"business_id\",StringType(), True),\n",
    "    StructField(\"stars\", IntegerType(), True),\n",
    "    StructField(\"date\", StringType(), True),\n",
    "    StructField(\"text\", StringType(), True),\n",
    "    StructField(\"useful\", StringType(), True),\n",
    "    StructField(\"funny\", StringType(), True),\n",
    "    StructField(\"cool\", StringType(), True)\n",
    "])\n",
    "\n",
    "df = spark.read.option('header', 'true').csv(SparkFiles.get(\"yelp_review.csv\"), schema=yelpSchema, sep=',', timestampFormat=\"yyyy/mm/dd\")\n",
    "df.printSchema()"
   ]
  },
  {
   "cell_type": "code",
   "execution_count": 5,
   "metadata": {},
   "outputs": [
    {
     "name": "stdout",
     "output_type": "stream",
     "text": [
      "+--------------------+--------------------+--------------------+-----+----------+--------------------+--------------------+--------------------+--------------------+\n",
      "|           review_id|             user_id|         business_id|stars|      date|                text|              useful|               funny|                cool|\n",
      "+--------------------+--------------------+--------------------+-----+----------+--------------------+--------------------+--------------------+--------------------+\n",
      "|HRPm3vEZ_F-33TYVT...|_4iMDXbXZ1p1ONG29...|8QWPlVQ6D-OExqXoa...|    5|2014-09-24|Cycle Pub Las Veg...|                   1|                   0|                   0|\n",
      "|Ia-w-nR1FrlzsiuEi...|u0LXt3Uea_GidxRW1...|Eox_Qq74oaFZ-Yjth...|    3|2011-07-18|Service is really...|                   1|                   1|                   1|\n",
      "|hkyyWaX-EMiIkvyu1...|nsOf58RZjMTn8V94E...|djyIZW8gVNWby8wau...|    5|2017-08-23|Suzanne was able ...|                   0|                   0|                   0|\n",
      "|BF0ANB54sc_f-3_ho...|ssuXFjkH4neiBgwv-...|JlNeaOymdVbE6_bub...|    1|2014-08-09|We always go to t...|                   3|                   0|                   0|\n",
      "|DbLUpPT61ykLTakkn...|ssuXFjkH4neiBgwv-...|0Rni7ocMC_Lg2UH0l...|    1|2014-08-09|This place is alw...|                   6|                   0|                   0|\n",
      "|40sWchjx-4rQ273cb...|ssuXFjkH4neiBgwv-...|3uBrRcIhbhed1xftL...|    1|2015-08-23|Horrible customer...|                   5|                   0|                   0|\n",
      "|UXmBQNWMD1PBLDC_n...|xJbxpra6iyCsph35P...|0g7Pr8OWl_t_7DUeY...|    1|2014-02-03|I bought a groupo...|                   1|                   3|                   0|\n",
      "|QYw2OurOBplkQRCpY...|nOTl4aPC4tKHK35T3...|XCxxPZ3Lu5mwmIo7I...|    4|2016-01-24|This place is alw...|                   0|                   0|                   0|\n",
      "|udzzB55YAxWEfVmkc...|nOTl4aPC4tKHK35T3...|VTs4f6LnUMHD4ysOe...|    4|2012-07-08|Sometimes it feel...|                   1|                   0|                   0|\n",
      "|raUmEc0rdycXSRwXS...|nOTl4aPC4tKHK35T3...|g-OTq2Jb7FRP7cYDU...|    3|2012-04-15|I have since swit...|                   3|                   1|                   0|\n",
      "|cd5K0jPd7Gv29x_h1...|nOTl4aPC4tKHK35T3...|pOvTYClFgMm-wAXPW...|    2|2016-05-22|I have eaten at s...|                   1|                   0|                   0|\n",
      "|PRj0OFgJjN5ljpeDs...|nOTl4aPC4tKHK35T3...|6Q7-wkCPc1KF75jZL...|    2|2012-08-22|\"Okay, so from wh...|          NOT Circus| Circus Manor Mot...| such as internet...|\n",
      "|f17tpJXCwTE0M137d...|nOTl4aPC4tKHK35T3...|zgQHtqX0gqMw1nlBZ...|    2|2013-10-19|\"While I really e...|   greasy appetizers| this is the righ...| I can't stress e...|\n",
      "|-FV47bShEgvxQCoh9...|nOTl4aPC4tKHK35T3...|bKh66jlEqEKZZFkjW...|    4|2015-09-21|\"Came here with m...| covered with fru...| which is your ba...|               toast|\n",
      "|bTThiQrwLzf0eghkB...|nOTl4aPC4tKHK35T3...|c78Pat78fVUBFPXYe...|    5|2016-01-24|\"I am surprised a...|  just go with it...|                null|                null|\n",
      "|iJ5iOBh7bMKMtF9j-...|nOTl4aPC4tKHK35T3...|GNEjlH_KssnJVRtqV...|    4|2011-12-20|\"Our friends got ...| which I found to...| although other p...| but I can't reme...|\n",
      "|iX6GLmUf6W81zGaiZ...|nOTl4aPC4tKHK35T3...|L6R2Op88NkoG1EGxl...|    4|2014-10-17|A little on the p...|                   0|                   0|                   0|\n",
      "|iPqFD9u2K2KRK99tc...|nOTl4aPC4tKHK35T3...|h0TKP2PK0QaAqvqdI...|    4|2015-02-07|\"Went here with m...| for such a small...|               clean| etc. Only proble...|\n",
      "|GPzhg9P5VbWiPOG66...|nOTl4aPC4tKHK35T3...|3BA3Ro7GcZb1N_PQW...|    4|2015-09-26|\"Went here after ...| other than a sli...|                null|                null|\n",
      "|S0zj-QZbrbPmfBxpN...|nOTl4aPC4tKHK35T3...|lFPNibSaYC3Vq4PCG...|    3|2011-04-03|This is a newer l...|                   0|                   0|                   0|\n",
      "+--------------------+--------------------+--------------------+-----+----------+--------------------+--------------------+--------------------+--------------------+\n",
      "only showing top 20 rows\n",
      "\n"
     ]
    }
   ],
   "source": [
    "df = df.filter(df.text.isNotNull())\n",
    "df = df.filter(df.useful.isNotNull())\n",
    "\n",
    "df.show()"
   ]
  },
  {
   "cell_type": "code",
   "execution_count": 6,
   "metadata": {},
   "outputs": [],
   "source": [
    "df = df.withColumn('review_length', length(df['text']))"
   ]
  },
  {
   "cell_type": "code",
   "execution_count": 7,
   "metadata": {},
   "outputs": [
    {
     "name": "stdout",
     "output_type": "stream",
     "text": [
      "+-----+\n",
      "|stars|\n",
      "+-----+\n",
      "|    1|\n",
      "|    3|\n",
      "|    5|\n",
      "|    4|\n",
      "|    2|\n",
      "+-----+\n",
      "\n"
     ]
    }
   ],
   "source": [
    "df = df.filter(\"stars >= 1 and stars <= 5\")\n",
    "df.select('stars').distinct().show()"
   ]
  },
  {
   "cell_type": "code",
   "execution_count": 8,
   "metadata": {},
   "outputs": [
    {
     "data": {
      "text/plain": [
       "3200677"
      ]
     },
     "execution_count": 8,
     "metadata": {},
     "output_type": "execute_result"
    }
   ],
   "source": [
    "df.count()"
   ]
  },
  {
   "cell_type": "code",
   "execution_count": 9,
   "metadata": {},
   "outputs": [
    {
     "data": {
      "text/plain": [
       "32170"
      ]
     },
     "execution_count": 9,
     "metadata": {},
     "output_type": "execute_result"
    }
   ],
   "source": [
    "sample_df = df.sample(fraction=0.01, seed=42)\n",
    "sample_df.count()"
   ]
  },
  {
   "cell_type": "markdown",
   "metadata": {
    "colab_type": "text",
    "id": "XHrs8Uk1i0RX"
   },
   "source": [
    "## Transform DataFrame to fit review_rating table"
   ]
  },
  {
   "cell_type": "code",
   "execution_count": 10,
   "metadata": {
    "colab": {
     "base_uri": "https://localhost:8080/",
     "height": 35
    },
    "colab_type": "code",
    "executionInfo": {
     "elapsed": 11671,
     "status": "ok",
     "timestamp": 1586026265006,
     "user": {
      "displayName": "Brendan Connelly",
      "photoUrl": "https://lh3.googleusercontent.com/a-/AOh14Gjtcp6dD2Url1718T3-WDO7Ysk-bKDRN52gNtJD=s64",
      "userId": "04271172207590963865"
     },
     "user_tz": 240
    },
    "id": "NuFyog8-jQCQ",
    "outputId": "7ae8cbc8-99f1-43e1-f60e-c4774220dcf7",
    "tags": [
     "outputPrepend",
     "outputPrepend",
     "outputPrepend",
     "outputPrepend",
     "outputPrepend",
     "outputPrepend",
     "outputPrepend",
     "outputPrepend",
     "outputPrepend",
     "outputPrepend",
     "outputPrepend",
     "outputPrepend",
     "outputPrepend",
     "outputPrepend",
     "outputPrepend",
     "outputPrepend",
     "outputPrepend",
     "outputPrepend",
     "outputPrepend",
     "outputPrepend",
     "outputPrepend",
     "outputPrepend",
     "outputPrepend",
     "outputPrepend",
     "outputPrepend",
     "outputPrepend",
     "outputPrepend",
     "outputPrepend",
     "outputPrepend"
    ]
   },
   "outputs": [
    {
     "name": "stdout",
     "output_type": "stream",
     "text": [
      "+--------------------+-----+----------+-------------+\n",
      "|                text|stars|      date|review_length|\n",
      "+--------------------+-----+----------+-------------+\n",
      "|I bought a groupo...|    1|2014-02-03|          221|\n",
      "|Came here with a ...|    4|2016-11-26|          570|\n",
      "|Have been here a ...|    4|2017-07-14|          320|\n",
      "|Baked ricotta and...|    5|2016-01-31|          231|\n",
      "|Dr. Anjum is an e...|    5|2017-08-15|          610|\n",
      "|This location is ...|    3|2012-09-19|          274|\n",
      "|This was such an ...|    5|2014-04-14|          337|\n",
      "|If you are out dr...|    5|2007-09-11|          157|\n",
      "|For over 10 years...|    5|2017-07-29|          861|\n",
      "|Food here is cons...|    3|2011-07-01|          117|\n",
      "|Love DPA, the sta...|    5|2012-07-21|          166|\n",
      "|fried chicken, ye...|    4|2014-10-06|          530|\n",
      "|C'est ma biblioth...|    5|2017-06-10|          319|\n",
      "|Their vegetarian ...|    5|2014-03-09|          244|\n",
      "|\"Stars: Proper ra...|    3|2016-01-14|          214|\n",
      "|Wow, what an incr...|    5|2016-07-04|          514|\n",
      "|Really like this ...|    5|2016-06-21|          403|\n",
      "|Solid tacos and c...|    5|2017-12-08|          241|\n",
      "|The pork chop was...|    5|2015-04-24|          403|\n",
      "|This was my first...|    4|2014-04-20|          229|\n",
      "+--------------------+-----+----------+-------------+\n",
      "only showing top 20 rows\n",
      "\n"
     ]
    }
   ],
   "source": [
    "review_df = sample_df.select([\"text\", \"stars\", \"date\", \"review_length\"])\n",
    "review_df.show()"
   ]
  },
  {
   "cell_type": "code",
   "execution_count": 11,
   "metadata": {},
   "outputs": [],
   "source": [
    "training, testing = review_df.randomSplit([0.7, 0.3], seed = 42)"
   ]
  },
  {
   "cell_type": "code",
   "execution_count": 15,
   "metadata": {},
   "outputs": [],
   "source": [
    "def build_trigrams(inputCol=[\"text\",\"stars\"], n=3):\n",
    "    tokenizer = [Tokenizer(inputCol=\"text\", outputCol=\"words\")]\n",
    "    ngrams = [\n",
    "        NGram(n=i, inputCol=\"words\", outputCol=\"{0}_grams\".format(i))\n",
    "        for i in range(1, n + 1)\n",
    "    ]\n",
    "\n",
    "    cv = [\n",
    "        CountVectorizer(vocabSize=2**14,inputCol=\"{0}_grams\".format(i),\n",
    "            outputCol=\"{0}_tf\".format(i))\n",
    "        for i in range(1, n + 1)\n",
    "    ]\n",
    "    idf = [IDF(inputCol=\"{0}_tf\".format(i), outputCol=\"{0}_tfidf\".format(i), minDocFreq=5) for i in range(1, n + 1)]\n",
    "\n",
    "    assembler = [VectorAssembler(\n",
    "        inputCols=[\"{0}_tfidf\".format(i) for i in range(1, n + 1)],\n",
    "        outputCol=\"features\"\n",
    "    )]\n",
    "    label_stringIdx = [StringIndexer(inputCol = \"stars\", outputCol = \"label\")]\n",
    "    selector = [ChiSqSelector(numTopFeatures=2**15,featuresCol='rawFeatures', outputCol=\"features\")]\n",
    "    lr = [LogisticRegression(maxIter=100)]\n",
    "    return Pipeline(stages=tokenizer + ngrams + cv + idf+ assembler + label_stringIdx + lr)"
   ]
  },
  {
   "cell_type": "code",
   "execution_count": 16,
   "metadata": {},
   "outputs": [],
   "source": [
    "trigram_pipelineFit = build_trigrams().fit(training)\n",
    "test_results = trigram_pipelineFit.transform(testing)"
   ]
  },
  {
   "cell_type": "code",
   "execution_count": 17,
   "metadata": {},
   "outputs": [
    {
     "name": "stdout",
     "output_type": "stream",
     "text": [
      "Model Accuracy = 0.594468\n"
     ]
    }
   ],
   "source": [
    "predictions = test_results.select(col(\"label\").cast(\"Float\"),col(\"prediction\"))\n",
    "evaluator = MulticlassClassificationEvaluator(labelCol=\"label\", predictionCol=\"prediction\", metricName=\"accuracy\")\n",
    "accuracy = evaluator.evaluate(predictions)\n",
    "print(\"Model Accuracy = %g\" % accuracy)"
   ]
  },
  {
   "cell_type": "code",
   "execution_count": null,
   "metadata": {},
   "outputs": [],
   "source": []
  }
 ],
 "metadata": {
  "colab": {
   "collapsed_sections": [],
   "name": "ins_cloud_etl_nlp.ipynb",
   "provenance": []
  },
  "kernelspec": {
   "display_name": "Python 3",
   "language": "python",
   "name": "python3"
  },
  "language_info": {
   "codemirror_mode": {
    "name": "ipython",
    "version": 3
   },
   "file_extension": ".py",
   "mimetype": "text/x-python",
   "name": "python",
   "nbconvert_exporter": "python",
   "pygments_lexer": "ipython3",
   "version": "3.7.6"
  }
 },
 "nbformat": 4,
 "nbformat_minor": 1
}
